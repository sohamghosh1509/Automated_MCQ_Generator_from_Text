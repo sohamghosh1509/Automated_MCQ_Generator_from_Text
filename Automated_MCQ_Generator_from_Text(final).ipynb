{
  "nbformat": 4,
  "nbformat_minor": 0,
  "metadata": {
    "colab": {
      "provenance": []
    },
    "kernelspec": {
      "name": "python3",
      "display_name": "Python 3"
    },
    "language_info": {
      "name": "python"
    },
    "widgets": {
      "application/vnd.jupyter.widget-state+json": {
        "a2eb6f597a3f400993b4fa973483370e": {
          "model_module": "@jupyter-widgets/controls",
          "model_name": "HBoxModel",
          "model_module_version": "1.5.0",
          "state": {
            "_dom_classes": [],
            "_model_module": "@jupyter-widgets/controls",
            "_model_module_version": "1.5.0",
            "_model_name": "HBoxModel",
            "_view_count": null,
            "_view_module": "@jupyter-widgets/controls",
            "_view_module_version": "1.5.0",
            "_view_name": "HBoxView",
            "box_style": "",
            "children": [
              "IPY_MODEL_b3bd224eb04940ab969b718d50a37555",
              "IPY_MODEL_4ed951f8df24496e8980bd8bfc3bd377",
              "IPY_MODEL_e925c484cf3a470aa34de78058752fb0"
            ],
            "layout": "IPY_MODEL_ff8571bdc8a840cea3da2050aa508935"
          }
        },
        "b3bd224eb04940ab969b718d50a37555": {
          "model_module": "@jupyter-widgets/controls",
          "model_name": "HTMLModel",
          "model_module_version": "1.5.0",
          "state": {
            "_dom_classes": [],
            "_model_module": "@jupyter-widgets/controls",
            "_model_module_version": "1.5.0",
            "_model_name": "HTMLModel",
            "_view_count": null,
            "_view_module": "@jupyter-widgets/controls",
            "_view_module_version": "1.5.0",
            "_view_name": "HTMLView",
            "description": "",
            "description_tooltip": null,
            "layout": "IPY_MODEL_b809e3da25a8493eb02fdd62d94e6ccb",
            "placeholder": "​",
            "style": "IPY_MODEL_85c59c872d19496e9d7905838baaa36f",
            "value": "Downloading (…)lve/main/config.json: 100%"
          }
        },
        "4ed951f8df24496e8980bd8bfc3bd377": {
          "model_module": "@jupyter-widgets/controls",
          "model_name": "FloatProgressModel",
          "model_module_version": "1.5.0",
          "state": {
            "_dom_classes": [],
            "_model_module": "@jupyter-widgets/controls",
            "_model_module_version": "1.5.0",
            "_model_name": "FloatProgressModel",
            "_view_count": null,
            "_view_module": "@jupyter-widgets/controls",
            "_view_module_version": "1.5.0",
            "_view_name": "ProgressView",
            "bar_style": "success",
            "description": "",
            "description_tooltip": null,
            "layout": "IPY_MODEL_937eb1994df749568cc8d4e9090bc18c",
            "max": 571,
            "min": 0,
            "orientation": "horizontal",
            "style": "IPY_MODEL_332fafcd12d944e2a68ae9bedb77fe7b",
            "value": 571
          }
        },
        "e925c484cf3a470aa34de78058752fb0": {
          "model_module": "@jupyter-widgets/controls",
          "model_name": "HTMLModel",
          "model_module_version": "1.5.0",
          "state": {
            "_dom_classes": [],
            "_model_module": "@jupyter-widgets/controls",
            "_model_module_version": "1.5.0",
            "_model_name": "HTMLModel",
            "_view_count": null,
            "_view_module": "@jupyter-widgets/controls",
            "_view_module_version": "1.5.0",
            "_view_name": "HTMLView",
            "description": "",
            "description_tooltip": null,
            "layout": "IPY_MODEL_fe0b34b9817b440ab6ab9ac4a0363c19",
            "placeholder": "​",
            "style": "IPY_MODEL_92171fe6697945c2b6c1c1d337c7c6aa",
            "value": " 571/571 [00:00&lt;00:00, 9.37kB/s]"
          }
        },
        "ff8571bdc8a840cea3da2050aa508935": {
          "model_module": "@jupyter-widgets/base",
          "model_name": "LayoutModel",
          "model_module_version": "1.2.0",
          "state": {
            "_model_module": "@jupyter-widgets/base",
            "_model_module_version": "1.2.0",
            "_model_name": "LayoutModel",
            "_view_count": null,
            "_view_module": "@jupyter-widgets/base",
            "_view_module_version": "1.2.0",
            "_view_name": "LayoutView",
            "align_content": null,
            "align_items": null,
            "align_self": null,
            "border": null,
            "bottom": null,
            "display": null,
            "flex": null,
            "flex_flow": null,
            "grid_area": null,
            "grid_auto_columns": null,
            "grid_auto_flow": null,
            "grid_auto_rows": null,
            "grid_column": null,
            "grid_gap": null,
            "grid_row": null,
            "grid_template_areas": null,
            "grid_template_columns": null,
            "grid_template_rows": null,
            "height": null,
            "justify_content": null,
            "justify_items": null,
            "left": null,
            "margin": null,
            "max_height": null,
            "max_width": null,
            "min_height": null,
            "min_width": null,
            "object_fit": null,
            "object_position": null,
            "order": null,
            "overflow": null,
            "overflow_x": null,
            "overflow_y": null,
            "padding": null,
            "right": null,
            "top": null,
            "visibility": null,
            "width": null
          }
        },
        "b809e3da25a8493eb02fdd62d94e6ccb": {
          "model_module": "@jupyter-widgets/base",
          "model_name": "LayoutModel",
          "model_module_version": "1.2.0",
          "state": {
            "_model_module": "@jupyter-widgets/base",
            "_model_module_version": "1.2.0",
            "_model_name": "LayoutModel",
            "_view_count": null,
            "_view_module": "@jupyter-widgets/base",
            "_view_module_version": "1.2.0",
            "_view_name": "LayoutView",
            "align_content": null,
            "align_items": null,
            "align_self": null,
            "border": null,
            "bottom": null,
            "display": null,
            "flex": null,
            "flex_flow": null,
            "grid_area": null,
            "grid_auto_columns": null,
            "grid_auto_flow": null,
            "grid_auto_rows": null,
            "grid_column": null,
            "grid_gap": null,
            "grid_row": null,
            "grid_template_areas": null,
            "grid_template_columns": null,
            "grid_template_rows": null,
            "height": null,
            "justify_content": null,
            "justify_items": null,
            "left": null,
            "margin": null,
            "max_height": null,
            "max_width": null,
            "min_height": null,
            "min_width": null,
            "object_fit": null,
            "object_position": null,
            "order": null,
            "overflow": null,
            "overflow_x": null,
            "overflow_y": null,
            "padding": null,
            "right": null,
            "top": null,
            "visibility": null,
            "width": null
          }
        },
        "85c59c872d19496e9d7905838baaa36f": {
          "model_module": "@jupyter-widgets/controls",
          "model_name": "DescriptionStyleModel",
          "model_module_version": "1.5.0",
          "state": {
            "_model_module": "@jupyter-widgets/controls",
            "_model_module_version": "1.5.0",
            "_model_name": "DescriptionStyleModel",
            "_view_count": null,
            "_view_module": "@jupyter-widgets/base",
            "_view_module_version": "1.2.0",
            "_view_name": "StyleView",
            "description_width": ""
          }
        },
        "937eb1994df749568cc8d4e9090bc18c": {
          "model_module": "@jupyter-widgets/base",
          "model_name": "LayoutModel",
          "model_module_version": "1.2.0",
          "state": {
            "_model_module": "@jupyter-widgets/base",
            "_model_module_version": "1.2.0",
            "_model_name": "LayoutModel",
            "_view_count": null,
            "_view_module": "@jupyter-widgets/base",
            "_view_module_version": "1.2.0",
            "_view_name": "LayoutView",
            "align_content": null,
            "align_items": null,
            "align_self": null,
            "border": null,
            "bottom": null,
            "display": null,
            "flex": null,
            "flex_flow": null,
            "grid_area": null,
            "grid_auto_columns": null,
            "grid_auto_flow": null,
            "grid_auto_rows": null,
            "grid_column": null,
            "grid_gap": null,
            "grid_row": null,
            "grid_template_areas": null,
            "grid_template_columns": null,
            "grid_template_rows": null,
            "height": null,
            "justify_content": null,
            "justify_items": null,
            "left": null,
            "margin": null,
            "max_height": null,
            "max_width": null,
            "min_height": null,
            "min_width": null,
            "object_fit": null,
            "object_position": null,
            "order": null,
            "overflow": null,
            "overflow_x": null,
            "overflow_y": null,
            "padding": null,
            "right": null,
            "top": null,
            "visibility": null,
            "width": null
          }
        },
        "332fafcd12d944e2a68ae9bedb77fe7b": {
          "model_module": "@jupyter-widgets/controls",
          "model_name": "ProgressStyleModel",
          "model_module_version": "1.5.0",
          "state": {
            "_model_module": "@jupyter-widgets/controls",
            "_model_module_version": "1.5.0",
            "_model_name": "ProgressStyleModel",
            "_view_count": null,
            "_view_module": "@jupyter-widgets/base",
            "_view_module_version": "1.2.0",
            "_view_name": "StyleView",
            "bar_color": null,
            "description_width": ""
          }
        },
        "fe0b34b9817b440ab6ab9ac4a0363c19": {
          "model_module": "@jupyter-widgets/base",
          "model_name": "LayoutModel",
          "model_module_version": "1.2.0",
          "state": {
            "_model_module": "@jupyter-widgets/base",
            "_model_module_version": "1.2.0",
            "_model_name": "LayoutModel",
            "_view_count": null,
            "_view_module": "@jupyter-widgets/base",
            "_view_module_version": "1.2.0",
            "_view_name": "LayoutView",
            "align_content": null,
            "align_items": null,
            "align_self": null,
            "border": null,
            "bottom": null,
            "display": null,
            "flex": null,
            "flex_flow": null,
            "grid_area": null,
            "grid_auto_columns": null,
            "grid_auto_flow": null,
            "grid_auto_rows": null,
            "grid_column": null,
            "grid_gap": null,
            "grid_row": null,
            "grid_template_areas": null,
            "grid_template_columns": null,
            "grid_template_rows": null,
            "height": null,
            "justify_content": null,
            "justify_items": null,
            "left": null,
            "margin": null,
            "max_height": null,
            "max_width": null,
            "min_height": null,
            "min_width": null,
            "object_fit": null,
            "object_position": null,
            "order": null,
            "overflow": null,
            "overflow_x": null,
            "overflow_y": null,
            "padding": null,
            "right": null,
            "top": null,
            "visibility": null,
            "width": null
          }
        },
        "92171fe6697945c2b6c1c1d337c7c6aa": {
          "model_module": "@jupyter-widgets/controls",
          "model_name": "DescriptionStyleModel",
          "model_module_version": "1.5.0",
          "state": {
            "_model_module": "@jupyter-widgets/controls",
            "_model_module_version": "1.5.0",
            "_model_name": "DescriptionStyleModel",
            "_view_count": null,
            "_view_module": "@jupyter-widgets/base",
            "_view_module_version": "1.2.0",
            "_view_name": "StyleView",
            "description_width": ""
          }
        },
        "7f43430d3dd848dc8800c6ae63572a37": {
          "model_module": "@jupyter-widgets/controls",
          "model_name": "HBoxModel",
          "model_module_version": "1.5.0",
          "state": {
            "_dom_classes": [],
            "_model_module": "@jupyter-widgets/controls",
            "_model_module_version": "1.5.0",
            "_model_name": "HBoxModel",
            "_view_count": null,
            "_view_module": "@jupyter-widgets/controls",
            "_view_module_version": "1.5.0",
            "_view_name": "HBoxView",
            "box_style": "",
            "children": [
              "IPY_MODEL_78034e38ce99405bb3a3dde459e492e7",
              "IPY_MODEL_c6e5592cb4b44b75a6931c8b6c0b642b",
              "IPY_MODEL_b19b021a1de042638ce3e3c19d359fdf"
            ],
            "layout": "IPY_MODEL_0498633056df4b8d8577b86e17a153ba"
          }
        },
        "78034e38ce99405bb3a3dde459e492e7": {
          "model_module": "@jupyter-widgets/controls",
          "model_name": "HTMLModel",
          "model_module_version": "1.5.0",
          "state": {
            "_dom_classes": [],
            "_model_module": "@jupyter-widgets/controls",
            "_model_module_version": "1.5.0",
            "_model_name": "HTMLModel",
            "_view_count": null,
            "_view_module": "@jupyter-widgets/controls",
            "_view_module_version": "1.5.0",
            "_view_name": "HTMLView",
            "description": "",
            "description_tooltip": null,
            "layout": "IPY_MODEL_c2575327432e474fa540984f311939a1",
            "placeholder": "​",
            "style": "IPY_MODEL_2ca51929bc5d4d7b984ef39ccbd50dfd",
            "value": "Downloading pytorch_model.bin: 100%"
          }
        },
        "c6e5592cb4b44b75a6931c8b6c0b642b": {
          "model_module": "@jupyter-widgets/controls",
          "model_name": "FloatProgressModel",
          "model_module_version": "1.5.0",
          "state": {
            "_dom_classes": [],
            "_model_module": "@jupyter-widgets/controls",
            "_model_module_version": "1.5.0",
            "_model_name": "FloatProgressModel",
            "_view_count": null,
            "_view_module": "@jupyter-widgets/controls",
            "_view_module_version": "1.5.0",
            "_view_name": "ProgressView",
            "bar_style": "success",
            "description": "",
            "description_tooltip": null,
            "layout": "IPY_MODEL_f0f8846b474942e8b9576ff75ceb6408",
            "max": 1344997306,
            "min": 0,
            "orientation": "horizontal",
            "style": "IPY_MODEL_a94e35e6f4e4419f8a134f11e17564d3",
            "value": 1344997306
          }
        },
        "b19b021a1de042638ce3e3c19d359fdf": {
          "model_module": "@jupyter-widgets/controls",
          "model_name": "HTMLModel",
          "model_module_version": "1.5.0",
          "state": {
            "_dom_classes": [],
            "_model_module": "@jupyter-widgets/controls",
            "_model_module_version": "1.5.0",
            "_model_name": "HTMLModel",
            "_view_count": null,
            "_view_module": "@jupyter-widgets/controls",
            "_view_module_version": "1.5.0",
            "_view_name": "HTMLView",
            "description": "",
            "description_tooltip": null,
            "layout": "IPY_MODEL_5a3298f583d3490bbebe6e6821545064",
            "placeholder": "​",
            "style": "IPY_MODEL_44a3ddc740764268b3f8573ffa338e10",
            "value": " 1.34G/1.34G [00:21&lt;00:00, 72.0MB/s]"
          }
        },
        "0498633056df4b8d8577b86e17a153ba": {
          "model_module": "@jupyter-widgets/base",
          "model_name": "LayoutModel",
          "model_module_version": "1.2.0",
          "state": {
            "_model_module": "@jupyter-widgets/base",
            "_model_module_version": "1.2.0",
            "_model_name": "LayoutModel",
            "_view_count": null,
            "_view_module": "@jupyter-widgets/base",
            "_view_module_version": "1.2.0",
            "_view_name": "LayoutView",
            "align_content": null,
            "align_items": null,
            "align_self": null,
            "border": null,
            "bottom": null,
            "display": null,
            "flex": null,
            "flex_flow": null,
            "grid_area": null,
            "grid_auto_columns": null,
            "grid_auto_flow": null,
            "grid_auto_rows": null,
            "grid_column": null,
            "grid_gap": null,
            "grid_row": null,
            "grid_template_areas": null,
            "grid_template_columns": null,
            "grid_template_rows": null,
            "height": null,
            "justify_content": null,
            "justify_items": null,
            "left": null,
            "margin": null,
            "max_height": null,
            "max_width": null,
            "min_height": null,
            "min_width": null,
            "object_fit": null,
            "object_position": null,
            "order": null,
            "overflow": null,
            "overflow_x": null,
            "overflow_y": null,
            "padding": null,
            "right": null,
            "top": null,
            "visibility": null,
            "width": null
          }
        },
        "c2575327432e474fa540984f311939a1": {
          "model_module": "@jupyter-widgets/base",
          "model_name": "LayoutModel",
          "model_module_version": "1.2.0",
          "state": {
            "_model_module": "@jupyter-widgets/base",
            "_model_module_version": "1.2.0",
            "_model_name": "LayoutModel",
            "_view_count": null,
            "_view_module": "@jupyter-widgets/base",
            "_view_module_version": "1.2.0",
            "_view_name": "LayoutView",
            "align_content": null,
            "align_items": null,
            "align_self": null,
            "border": null,
            "bottom": null,
            "display": null,
            "flex": null,
            "flex_flow": null,
            "grid_area": null,
            "grid_auto_columns": null,
            "grid_auto_flow": null,
            "grid_auto_rows": null,
            "grid_column": null,
            "grid_gap": null,
            "grid_row": null,
            "grid_template_areas": null,
            "grid_template_columns": null,
            "grid_template_rows": null,
            "height": null,
            "justify_content": null,
            "justify_items": null,
            "left": null,
            "margin": null,
            "max_height": null,
            "max_width": null,
            "min_height": null,
            "min_width": null,
            "object_fit": null,
            "object_position": null,
            "order": null,
            "overflow": null,
            "overflow_x": null,
            "overflow_y": null,
            "padding": null,
            "right": null,
            "top": null,
            "visibility": null,
            "width": null
          }
        },
        "2ca51929bc5d4d7b984ef39ccbd50dfd": {
          "model_module": "@jupyter-widgets/controls",
          "model_name": "DescriptionStyleModel",
          "model_module_version": "1.5.0",
          "state": {
            "_model_module": "@jupyter-widgets/controls",
            "_model_module_version": "1.5.0",
            "_model_name": "DescriptionStyleModel",
            "_view_count": null,
            "_view_module": "@jupyter-widgets/base",
            "_view_module_version": "1.2.0",
            "_view_name": "StyleView",
            "description_width": ""
          }
        },
        "f0f8846b474942e8b9576ff75ceb6408": {
          "model_module": "@jupyter-widgets/base",
          "model_name": "LayoutModel",
          "model_module_version": "1.2.0",
          "state": {
            "_model_module": "@jupyter-widgets/base",
            "_model_module_version": "1.2.0",
            "_model_name": "LayoutModel",
            "_view_count": null,
            "_view_module": "@jupyter-widgets/base",
            "_view_module_version": "1.2.0",
            "_view_name": "LayoutView",
            "align_content": null,
            "align_items": null,
            "align_self": null,
            "border": null,
            "bottom": null,
            "display": null,
            "flex": null,
            "flex_flow": null,
            "grid_area": null,
            "grid_auto_columns": null,
            "grid_auto_flow": null,
            "grid_auto_rows": null,
            "grid_column": null,
            "grid_gap": null,
            "grid_row": null,
            "grid_template_areas": null,
            "grid_template_columns": null,
            "grid_template_rows": null,
            "height": null,
            "justify_content": null,
            "justify_items": null,
            "left": null,
            "margin": null,
            "max_height": null,
            "max_width": null,
            "min_height": null,
            "min_width": null,
            "object_fit": null,
            "object_position": null,
            "order": null,
            "overflow": null,
            "overflow_x": null,
            "overflow_y": null,
            "padding": null,
            "right": null,
            "top": null,
            "visibility": null,
            "width": null
          }
        },
        "a94e35e6f4e4419f8a134f11e17564d3": {
          "model_module": "@jupyter-widgets/controls",
          "model_name": "ProgressStyleModel",
          "model_module_version": "1.5.0",
          "state": {
            "_model_module": "@jupyter-widgets/controls",
            "_model_module_version": "1.5.0",
            "_model_name": "ProgressStyleModel",
            "_view_count": null,
            "_view_module": "@jupyter-widgets/base",
            "_view_module_version": "1.2.0",
            "_view_name": "StyleView",
            "bar_color": null,
            "description_width": ""
          }
        },
        "5a3298f583d3490bbebe6e6821545064": {
          "model_module": "@jupyter-widgets/base",
          "model_name": "LayoutModel",
          "model_module_version": "1.2.0",
          "state": {
            "_model_module": "@jupyter-widgets/base",
            "_model_module_version": "1.2.0",
            "_model_name": "LayoutModel",
            "_view_count": null,
            "_view_module": "@jupyter-widgets/base",
            "_view_module_version": "1.2.0",
            "_view_name": "LayoutView",
            "align_content": null,
            "align_items": null,
            "align_self": null,
            "border": null,
            "bottom": null,
            "display": null,
            "flex": null,
            "flex_flow": null,
            "grid_area": null,
            "grid_auto_columns": null,
            "grid_auto_flow": null,
            "grid_auto_rows": null,
            "grid_column": null,
            "grid_gap": null,
            "grid_row": null,
            "grid_template_areas": null,
            "grid_template_columns": null,
            "grid_template_rows": null,
            "height": null,
            "justify_content": null,
            "justify_items": null,
            "left": null,
            "margin": null,
            "max_height": null,
            "max_width": null,
            "min_height": null,
            "min_width": null,
            "object_fit": null,
            "object_position": null,
            "order": null,
            "overflow": null,
            "overflow_x": null,
            "overflow_y": null,
            "padding": null,
            "right": null,
            "top": null,
            "visibility": null,
            "width": null
          }
        },
        "44a3ddc740764268b3f8573ffa338e10": {
          "model_module": "@jupyter-widgets/controls",
          "model_name": "DescriptionStyleModel",
          "model_module_version": "1.5.0",
          "state": {
            "_model_module": "@jupyter-widgets/controls",
            "_model_module_version": "1.5.0",
            "_model_name": "DescriptionStyleModel",
            "_view_count": null,
            "_view_module": "@jupyter-widgets/base",
            "_view_module_version": "1.2.0",
            "_view_name": "StyleView",
            "description_width": ""
          }
        },
        "5009f4d2f3b944c4bc64ecdc06a4095f": {
          "model_module": "@jupyter-widgets/controls",
          "model_name": "HBoxModel",
          "model_module_version": "1.5.0",
          "state": {
            "_dom_classes": [],
            "_model_module": "@jupyter-widgets/controls",
            "_model_module_version": "1.5.0",
            "_model_name": "HBoxModel",
            "_view_count": null,
            "_view_module": "@jupyter-widgets/controls",
            "_view_module_version": "1.5.0",
            "_view_name": "HBoxView",
            "box_style": "",
            "children": [
              "IPY_MODEL_84f55a952eeb41c09504202fa086612e",
              "IPY_MODEL_53b1c0091b9243248bcccaa7c8f8c9b6",
              "IPY_MODEL_775a081ed3c24fc4a6ea2bbdf6e2faeb"
            ],
            "layout": "IPY_MODEL_2295599f9f4a4f9bb81b012e5753809d"
          }
        },
        "84f55a952eeb41c09504202fa086612e": {
          "model_module": "@jupyter-widgets/controls",
          "model_name": "HTMLModel",
          "model_module_version": "1.5.0",
          "state": {
            "_dom_classes": [],
            "_model_module": "@jupyter-widgets/controls",
            "_model_module_version": "1.5.0",
            "_model_name": "HTMLModel",
            "_view_count": null,
            "_view_module": "@jupyter-widgets/controls",
            "_view_module_version": "1.5.0",
            "_view_name": "HTMLView",
            "description": "",
            "description_tooltip": null,
            "layout": "IPY_MODEL_e103b4aa8ce74997bd1390ea0a047004",
            "placeholder": "​",
            "style": "IPY_MODEL_c940e9c13b334638bb6d38cf2eb6da63",
            "value": "Downloading (…)solve/main/vocab.txt: 100%"
          }
        },
        "53b1c0091b9243248bcccaa7c8f8c9b6": {
          "model_module": "@jupyter-widgets/controls",
          "model_name": "FloatProgressModel",
          "model_module_version": "1.5.0",
          "state": {
            "_dom_classes": [],
            "_model_module": "@jupyter-widgets/controls",
            "_model_module_version": "1.5.0",
            "_model_name": "FloatProgressModel",
            "_view_count": null,
            "_view_module": "@jupyter-widgets/controls",
            "_view_module_version": "1.5.0",
            "_view_name": "ProgressView",
            "bar_style": "success",
            "description": "",
            "description_tooltip": null,
            "layout": "IPY_MODEL_7ed2da40d1c641d894249dde0458faf1",
            "max": 231508,
            "min": 0,
            "orientation": "horizontal",
            "style": "IPY_MODEL_8cce7ba132c247c893398aa8645931f7",
            "value": 231508
          }
        },
        "775a081ed3c24fc4a6ea2bbdf6e2faeb": {
          "model_module": "@jupyter-widgets/controls",
          "model_name": "HTMLModel",
          "model_module_version": "1.5.0",
          "state": {
            "_dom_classes": [],
            "_model_module": "@jupyter-widgets/controls",
            "_model_module_version": "1.5.0",
            "_model_name": "HTMLModel",
            "_view_count": null,
            "_view_module": "@jupyter-widgets/controls",
            "_view_module_version": "1.5.0",
            "_view_name": "HTMLView",
            "description": "",
            "description_tooltip": null,
            "layout": "IPY_MODEL_b8bc63aad3d447a697c9635d10eb6198",
            "placeholder": "​",
            "style": "IPY_MODEL_859cf988c01546c3bc544021f8a8c7a5",
            "value": " 232k/232k [00:00&lt;00:00, 1.72MB/s]"
          }
        },
        "2295599f9f4a4f9bb81b012e5753809d": {
          "model_module": "@jupyter-widgets/base",
          "model_name": "LayoutModel",
          "model_module_version": "1.2.0",
          "state": {
            "_model_module": "@jupyter-widgets/base",
            "_model_module_version": "1.2.0",
            "_model_name": "LayoutModel",
            "_view_count": null,
            "_view_module": "@jupyter-widgets/base",
            "_view_module_version": "1.2.0",
            "_view_name": "LayoutView",
            "align_content": null,
            "align_items": null,
            "align_self": null,
            "border": null,
            "bottom": null,
            "display": null,
            "flex": null,
            "flex_flow": null,
            "grid_area": null,
            "grid_auto_columns": null,
            "grid_auto_flow": null,
            "grid_auto_rows": null,
            "grid_column": null,
            "grid_gap": null,
            "grid_row": null,
            "grid_template_areas": null,
            "grid_template_columns": null,
            "grid_template_rows": null,
            "height": null,
            "justify_content": null,
            "justify_items": null,
            "left": null,
            "margin": null,
            "max_height": null,
            "max_width": null,
            "min_height": null,
            "min_width": null,
            "object_fit": null,
            "object_position": null,
            "order": null,
            "overflow": null,
            "overflow_x": null,
            "overflow_y": null,
            "padding": null,
            "right": null,
            "top": null,
            "visibility": null,
            "width": null
          }
        },
        "e103b4aa8ce74997bd1390ea0a047004": {
          "model_module": "@jupyter-widgets/base",
          "model_name": "LayoutModel",
          "model_module_version": "1.2.0",
          "state": {
            "_model_module": "@jupyter-widgets/base",
            "_model_module_version": "1.2.0",
            "_model_name": "LayoutModel",
            "_view_count": null,
            "_view_module": "@jupyter-widgets/base",
            "_view_module_version": "1.2.0",
            "_view_name": "LayoutView",
            "align_content": null,
            "align_items": null,
            "align_self": null,
            "border": null,
            "bottom": null,
            "display": null,
            "flex": null,
            "flex_flow": null,
            "grid_area": null,
            "grid_auto_columns": null,
            "grid_auto_flow": null,
            "grid_auto_rows": null,
            "grid_column": null,
            "grid_gap": null,
            "grid_row": null,
            "grid_template_areas": null,
            "grid_template_columns": null,
            "grid_template_rows": null,
            "height": null,
            "justify_content": null,
            "justify_items": null,
            "left": null,
            "margin": null,
            "max_height": null,
            "max_width": null,
            "min_height": null,
            "min_width": null,
            "object_fit": null,
            "object_position": null,
            "order": null,
            "overflow": null,
            "overflow_x": null,
            "overflow_y": null,
            "padding": null,
            "right": null,
            "top": null,
            "visibility": null,
            "width": null
          }
        },
        "c940e9c13b334638bb6d38cf2eb6da63": {
          "model_module": "@jupyter-widgets/controls",
          "model_name": "DescriptionStyleModel",
          "model_module_version": "1.5.0",
          "state": {
            "_model_module": "@jupyter-widgets/controls",
            "_model_module_version": "1.5.0",
            "_model_name": "DescriptionStyleModel",
            "_view_count": null,
            "_view_module": "@jupyter-widgets/base",
            "_view_module_version": "1.2.0",
            "_view_name": "StyleView",
            "description_width": ""
          }
        },
        "7ed2da40d1c641d894249dde0458faf1": {
          "model_module": "@jupyter-widgets/base",
          "model_name": "LayoutModel",
          "model_module_version": "1.2.0",
          "state": {
            "_model_module": "@jupyter-widgets/base",
            "_model_module_version": "1.2.0",
            "_model_name": "LayoutModel",
            "_view_count": null,
            "_view_module": "@jupyter-widgets/base",
            "_view_module_version": "1.2.0",
            "_view_name": "LayoutView",
            "align_content": null,
            "align_items": null,
            "align_self": null,
            "border": null,
            "bottom": null,
            "display": null,
            "flex": null,
            "flex_flow": null,
            "grid_area": null,
            "grid_auto_columns": null,
            "grid_auto_flow": null,
            "grid_auto_rows": null,
            "grid_column": null,
            "grid_gap": null,
            "grid_row": null,
            "grid_template_areas": null,
            "grid_template_columns": null,
            "grid_template_rows": null,
            "height": null,
            "justify_content": null,
            "justify_items": null,
            "left": null,
            "margin": null,
            "max_height": null,
            "max_width": null,
            "min_height": null,
            "min_width": null,
            "object_fit": null,
            "object_position": null,
            "order": null,
            "overflow": null,
            "overflow_x": null,
            "overflow_y": null,
            "padding": null,
            "right": null,
            "top": null,
            "visibility": null,
            "width": null
          }
        },
        "8cce7ba132c247c893398aa8645931f7": {
          "model_module": "@jupyter-widgets/controls",
          "model_name": "ProgressStyleModel",
          "model_module_version": "1.5.0",
          "state": {
            "_model_module": "@jupyter-widgets/controls",
            "_model_module_version": "1.5.0",
            "_model_name": "ProgressStyleModel",
            "_view_count": null,
            "_view_module": "@jupyter-widgets/base",
            "_view_module_version": "1.2.0",
            "_view_name": "StyleView",
            "bar_color": null,
            "description_width": ""
          }
        },
        "b8bc63aad3d447a697c9635d10eb6198": {
          "model_module": "@jupyter-widgets/base",
          "model_name": "LayoutModel",
          "model_module_version": "1.2.0",
          "state": {
            "_model_module": "@jupyter-widgets/base",
            "_model_module_version": "1.2.0",
            "_model_name": "LayoutModel",
            "_view_count": null,
            "_view_module": "@jupyter-widgets/base",
            "_view_module_version": "1.2.0",
            "_view_name": "LayoutView",
            "align_content": null,
            "align_items": null,
            "align_self": null,
            "border": null,
            "bottom": null,
            "display": null,
            "flex": null,
            "flex_flow": null,
            "grid_area": null,
            "grid_auto_columns": null,
            "grid_auto_flow": null,
            "grid_auto_rows": null,
            "grid_column": null,
            "grid_gap": null,
            "grid_row": null,
            "grid_template_areas": null,
            "grid_template_columns": null,
            "grid_template_rows": null,
            "height": null,
            "justify_content": null,
            "justify_items": null,
            "left": null,
            "margin": null,
            "max_height": null,
            "max_width": null,
            "min_height": null,
            "min_width": null,
            "object_fit": null,
            "object_position": null,
            "order": null,
            "overflow": null,
            "overflow_x": null,
            "overflow_y": null,
            "padding": null,
            "right": null,
            "top": null,
            "visibility": null,
            "width": null
          }
        },
        "859cf988c01546c3bc544021f8a8c7a5": {
          "model_module": "@jupyter-widgets/controls",
          "model_name": "DescriptionStyleModel",
          "model_module_version": "1.5.0",
          "state": {
            "_model_module": "@jupyter-widgets/controls",
            "_model_module_version": "1.5.0",
            "_model_name": "DescriptionStyleModel",
            "_view_count": null,
            "_view_module": "@jupyter-widgets/base",
            "_view_module_version": "1.2.0",
            "_view_name": "StyleView",
            "description_width": ""
          }
        },
        "9e762b1ea58240abb02c6e344cd6fa37": {
          "model_module": "@jupyter-widgets/controls",
          "model_name": "HBoxModel",
          "model_module_version": "1.5.0",
          "state": {
            "_dom_classes": [],
            "_model_module": "@jupyter-widgets/controls",
            "_model_module_version": "1.5.0",
            "_model_name": "HBoxModel",
            "_view_count": null,
            "_view_module": "@jupyter-widgets/controls",
            "_view_module_version": "1.5.0",
            "_view_name": "HBoxView",
            "box_style": "",
            "children": [
              "IPY_MODEL_4e85965d6bcc4ca086230f4df86ecbaf",
              "IPY_MODEL_af986442179b4217bf0e7df7af093e43",
              "IPY_MODEL_4d2daed777c64282a1fda203bbc589e8"
            ],
            "layout": "IPY_MODEL_104b0de15b114e07b59bef22a1dad919"
          }
        },
        "4e85965d6bcc4ca086230f4df86ecbaf": {
          "model_module": "@jupyter-widgets/controls",
          "model_name": "HTMLModel",
          "model_module_version": "1.5.0",
          "state": {
            "_dom_classes": [],
            "_model_module": "@jupyter-widgets/controls",
            "_model_module_version": "1.5.0",
            "_model_name": "HTMLModel",
            "_view_count": null,
            "_view_module": "@jupyter-widgets/controls",
            "_view_module_version": "1.5.0",
            "_view_name": "HTMLView",
            "description": "",
            "description_tooltip": null,
            "layout": "IPY_MODEL_3b5904739b9c49e89bc52ec4d309d5ef",
            "placeholder": "​",
            "style": "IPY_MODEL_0199c2cbc3464a9c8c21bbaef80f2720",
            "value": "Downloading (…)okenizer_config.json: 100%"
          }
        },
        "af986442179b4217bf0e7df7af093e43": {
          "model_module": "@jupyter-widgets/controls",
          "model_name": "FloatProgressModel",
          "model_module_version": "1.5.0",
          "state": {
            "_dom_classes": [],
            "_model_module": "@jupyter-widgets/controls",
            "_model_module_version": "1.5.0",
            "_model_name": "FloatProgressModel",
            "_view_count": null,
            "_view_module": "@jupyter-widgets/controls",
            "_view_module_version": "1.5.0",
            "_view_name": "ProgressView",
            "bar_style": "success",
            "description": "",
            "description_tooltip": null,
            "layout": "IPY_MODEL_8ba39f37eae244fa826d477840de5428",
            "max": 28,
            "min": 0,
            "orientation": "horizontal",
            "style": "IPY_MODEL_78440fe080c142e3b6888c86a869a1ba",
            "value": 28
          }
        },
        "4d2daed777c64282a1fda203bbc589e8": {
          "model_module": "@jupyter-widgets/controls",
          "model_name": "HTMLModel",
          "model_module_version": "1.5.0",
          "state": {
            "_dom_classes": [],
            "_model_module": "@jupyter-widgets/controls",
            "_model_module_version": "1.5.0",
            "_model_name": "HTMLModel",
            "_view_count": null,
            "_view_module": "@jupyter-widgets/controls",
            "_view_module_version": "1.5.0",
            "_view_name": "HTMLView",
            "description": "",
            "description_tooltip": null,
            "layout": "IPY_MODEL_9dc3e2ddaff549c6a38b2abc6342de02",
            "placeholder": "​",
            "style": "IPY_MODEL_1129939ec7014a2fbf6f429199451aed",
            "value": " 28.0/28.0 [00:00&lt;00:00, 1.51kB/s]"
          }
        },
        "104b0de15b114e07b59bef22a1dad919": {
          "model_module": "@jupyter-widgets/base",
          "model_name": "LayoutModel",
          "model_module_version": "1.2.0",
          "state": {
            "_model_module": "@jupyter-widgets/base",
            "_model_module_version": "1.2.0",
            "_model_name": "LayoutModel",
            "_view_count": null,
            "_view_module": "@jupyter-widgets/base",
            "_view_module_version": "1.2.0",
            "_view_name": "LayoutView",
            "align_content": null,
            "align_items": null,
            "align_self": null,
            "border": null,
            "bottom": null,
            "display": null,
            "flex": null,
            "flex_flow": null,
            "grid_area": null,
            "grid_auto_columns": null,
            "grid_auto_flow": null,
            "grid_auto_rows": null,
            "grid_column": null,
            "grid_gap": null,
            "grid_row": null,
            "grid_template_areas": null,
            "grid_template_columns": null,
            "grid_template_rows": null,
            "height": null,
            "justify_content": null,
            "justify_items": null,
            "left": null,
            "margin": null,
            "max_height": null,
            "max_width": null,
            "min_height": null,
            "min_width": null,
            "object_fit": null,
            "object_position": null,
            "order": null,
            "overflow": null,
            "overflow_x": null,
            "overflow_y": null,
            "padding": null,
            "right": null,
            "top": null,
            "visibility": null,
            "width": null
          }
        },
        "3b5904739b9c49e89bc52ec4d309d5ef": {
          "model_module": "@jupyter-widgets/base",
          "model_name": "LayoutModel",
          "model_module_version": "1.2.0",
          "state": {
            "_model_module": "@jupyter-widgets/base",
            "_model_module_version": "1.2.0",
            "_model_name": "LayoutModel",
            "_view_count": null,
            "_view_module": "@jupyter-widgets/base",
            "_view_module_version": "1.2.0",
            "_view_name": "LayoutView",
            "align_content": null,
            "align_items": null,
            "align_self": null,
            "border": null,
            "bottom": null,
            "display": null,
            "flex": null,
            "flex_flow": null,
            "grid_area": null,
            "grid_auto_columns": null,
            "grid_auto_flow": null,
            "grid_auto_rows": null,
            "grid_column": null,
            "grid_gap": null,
            "grid_row": null,
            "grid_template_areas": null,
            "grid_template_columns": null,
            "grid_template_rows": null,
            "height": null,
            "justify_content": null,
            "justify_items": null,
            "left": null,
            "margin": null,
            "max_height": null,
            "max_width": null,
            "min_height": null,
            "min_width": null,
            "object_fit": null,
            "object_position": null,
            "order": null,
            "overflow": null,
            "overflow_x": null,
            "overflow_y": null,
            "padding": null,
            "right": null,
            "top": null,
            "visibility": null,
            "width": null
          }
        },
        "0199c2cbc3464a9c8c21bbaef80f2720": {
          "model_module": "@jupyter-widgets/controls",
          "model_name": "DescriptionStyleModel",
          "model_module_version": "1.5.0",
          "state": {
            "_model_module": "@jupyter-widgets/controls",
            "_model_module_version": "1.5.0",
            "_model_name": "DescriptionStyleModel",
            "_view_count": null,
            "_view_module": "@jupyter-widgets/base",
            "_view_module_version": "1.2.0",
            "_view_name": "StyleView",
            "description_width": ""
          }
        },
        "8ba39f37eae244fa826d477840de5428": {
          "model_module": "@jupyter-widgets/base",
          "model_name": "LayoutModel",
          "model_module_version": "1.2.0",
          "state": {
            "_model_module": "@jupyter-widgets/base",
            "_model_module_version": "1.2.0",
            "_model_name": "LayoutModel",
            "_view_count": null,
            "_view_module": "@jupyter-widgets/base",
            "_view_module_version": "1.2.0",
            "_view_name": "LayoutView",
            "align_content": null,
            "align_items": null,
            "align_self": null,
            "border": null,
            "bottom": null,
            "display": null,
            "flex": null,
            "flex_flow": null,
            "grid_area": null,
            "grid_auto_columns": null,
            "grid_auto_flow": null,
            "grid_auto_rows": null,
            "grid_column": null,
            "grid_gap": null,
            "grid_row": null,
            "grid_template_areas": null,
            "grid_template_columns": null,
            "grid_template_rows": null,
            "height": null,
            "justify_content": null,
            "justify_items": null,
            "left": null,
            "margin": null,
            "max_height": null,
            "max_width": null,
            "min_height": null,
            "min_width": null,
            "object_fit": null,
            "object_position": null,
            "order": null,
            "overflow": null,
            "overflow_x": null,
            "overflow_y": null,
            "padding": null,
            "right": null,
            "top": null,
            "visibility": null,
            "width": null
          }
        },
        "78440fe080c142e3b6888c86a869a1ba": {
          "model_module": "@jupyter-widgets/controls",
          "model_name": "ProgressStyleModel",
          "model_module_version": "1.5.0",
          "state": {
            "_model_module": "@jupyter-widgets/controls",
            "_model_module_version": "1.5.0",
            "_model_name": "ProgressStyleModel",
            "_view_count": null,
            "_view_module": "@jupyter-widgets/base",
            "_view_module_version": "1.2.0",
            "_view_name": "StyleView",
            "bar_color": null,
            "description_width": ""
          }
        },
        "9dc3e2ddaff549c6a38b2abc6342de02": {
          "model_module": "@jupyter-widgets/base",
          "model_name": "LayoutModel",
          "model_module_version": "1.2.0",
          "state": {
            "_model_module": "@jupyter-widgets/base",
            "_model_module_version": "1.2.0",
            "_model_name": "LayoutModel",
            "_view_count": null,
            "_view_module": "@jupyter-widgets/base",
            "_view_module_version": "1.2.0",
            "_view_name": "LayoutView",
            "align_content": null,
            "align_items": null,
            "align_self": null,
            "border": null,
            "bottom": null,
            "display": null,
            "flex": null,
            "flex_flow": null,
            "grid_area": null,
            "grid_auto_columns": null,
            "grid_auto_flow": null,
            "grid_auto_rows": null,
            "grid_column": null,
            "grid_gap": null,
            "grid_row": null,
            "grid_template_areas": null,
            "grid_template_columns": null,
            "grid_template_rows": null,
            "height": null,
            "justify_content": null,
            "justify_items": null,
            "left": null,
            "margin": null,
            "max_height": null,
            "max_width": null,
            "min_height": null,
            "min_width": null,
            "object_fit": null,
            "object_position": null,
            "order": null,
            "overflow": null,
            "overflow_x": null,
            "overflow_y": null,
            "padding": null,
            "right": null,
            "top": null,
            "visibility": null,
            "width": null
          }
        },
        "1129939ec7014a2fbf6f429199451aed": {
          "model_module": "@jupyter-widgets/controls",
          "model_name": "DescriptionStyleModel",
          "model_module_version": "1.5.0",
          "state": {
            "_model_module": "@jupyter-widgets/controls",
            "_model_module_version": "1.5.0",
            "_model_name": "DescriptionStyleModel",
            "_view_count": null,
            "_view_module": "@jupyter-widgets/base",
            "_view_module_version": "1.2.0",
            "_view_name": "StyleView",
            "description_width": ""
          }
        }
      }
    }
  },
  "cells": [
    {
      "cell_type": "code",
      "execution_count": null,
      "metadata": {
        "id": "4xXmupLyKpJV"
      },
      "outputs": [],
      "source": [
        "!pip install --quiet transformers"
      ]
    },
    {
      "cell_type": "code",
      "source": [
        "!pip install --quiet sentencepiece==0.1.95"
      ],
      "metadata": {
        "colab": {
          "base_uri": "https://localhost:8080/"
        },
        "id": "1FquV8bqEMTa",
        "outputId": "6c30b36d-a326-4d9f-c860-179bc2b416a5"
      },
      "execution_count": null,
      "outputs": [
        {
          "output_type": "stream",
          "name": "stdout",
          "text": [
            "\u001b[?25l     \u001b[90m━━━━━━━━━━━━━━━━━━━━━━━━━━━━━━━━━━━━━━━━\u001b[0m \u001b[32m0.0/508.7 kB\u001b[0m \u001b[31m?\u001b[0m eta \u001b[36m-:--:--\u001b[0m\r\u001b[2K     \u001b[91m━━━━━━━━━━━━━━━━━━━━━━━━━━━━━━━━━━━━━\u001b[0m\u001b[90m╺\u001b[0m \u001b[32m501.8/508.7 kB\u001b[0m \u001b[31m15.7 MB/s\u001b[0m eta \u001b[36m0:00:01\u001b[0m\r\u001b[2K     \u001b[90m━━━━━━━━━━━━━━━━━━━━━━━━━━━━━━━━━━━━━━\u001b[0m \u001b[32m508.7/508.7 kB\u001b[0m \u001b[31m11.0 MB/s\u001b[0m eta \u001b[36m0:00:00\u001b[0m\n",
            "\u001b[?25h  Preparing metadata (setup.py) ... \u001b[?25l\u001b[?25hdone\n",
            "  Building wheel for sentencepiece (setup.py) ... \u001b[?25l\u001b[?25hdone\n"
          ]
        }
      ]
    },
    {
      "cell_type": "code",
      "source": [
        "!pip install --quiet flashtext==2.7"
      ],
      "metadata": {
        "colab": {
          "base_uri": "https://localhost:8080/"
        },
        "id": "8atP746yEVoE",
        "outputId": "2ed5b4a5-3614-4419-e232-d269f0ed3a19"
      },
      "execution_count": null,
      "outputs": [
        {
          "output_type": "stream",
          "name": "stdout",
          "text": [
            "  Preparing metadata (setup.py) ... \u001b[?25l\u001b[?25hdone\n",
            "  Building wheel for flashtext (setup.py) ... \u001b[?25l\u001b[?25hdone\n"
          ]
        }
      ]
    },
    {
      "cell_type": "code",
      "source": [
        "!pip install git+https://github.com/boudinfl/pke.git"
      ],
      "metadata": {
        "id": "jQftYqoWEX85"
      },
      "execution_count": null,
      "outputs": []
    },
    {
      "cell_type": "code",
      "source": [
        "!pip install --quiet textwrap3==0.9.2"
      ],
      "metadata": {
        "id": "989oxWppEabD"
      },
      "execution_count": null,
      "outputs": []
    },
    {
      "cell_type": "code",
      "source": [
        "!pip install bert-extractive-summarizer"
      ],
      "metadata": {
        "id": "-JWJLlsCEc-q"
      },
      "execution_count": null,
      "outputs": []
    },
    {
      "cell_type": "code",
      "source": [
        "!pip install strsim"
      ],
      "metadata": {
        "colab": {
          "base_uri": "https://localhost:8080/"
        },
        "id": "DygfSWEfEfYF",
        "outputId": "afe60ccc-4136-4992-a184-7c01f7014fe8"
      },
      "execution_count": null,
      "outputs": [
        {
          "output_type": "stream",
          "name": "stdout",
          "text": [
            "Looking in indexes: https://pypi.org/simple, https://us-python.pkg.dev/colab-wheels/public/simple/\n",
            "Collecting strsim\n",
            "  Downloading strsim-0.0.3-py3-none-any.whl (42 kB)\n",
            "\u001b[2K     \u001b[90m━━━━━━━━━━━━━━━━━━━━━━━━━━━━━━━━━━━━━━━━\u001b[0m \u001b[32m42.4/42.4 kB\u001b[0m \u001b[31m4.3 MB/s\u001b[0m eta \u001b[36m0:00:00\u001b[0m\n",
            "\u001b[?25hInstalling collected packages: strsim\n",
            "Successfully installed strsim-0.0.3\n"
          ]
        }
      ]
    },
    {
      "cell_type": "code",
      "source": [
        "import pke\n",
        "import string\n",
        "import nltk\n",
        "import random\n",
        "nltk.download('punkt')"
      ],
      "metadata": {
        "colab": {
          "base_uri": "https://localhost:8080/"
        },
        "id": "adwjzd_cEjp-",
        "outputId": "6b204eb5-ae98-4ef6-bbee-d1ed21684564"
      },
      "execution_count": null,
      "outputs": [
        {
          "output_type": "stream",
          "name": "stderr",
          "text": [
            "[nltk_data] Downloading package punkt to /root/nltk_data...\n",
            "[nltk_data]   Unzipping tokenizers/punkt.zip.\n"
          ]
        },
        {
          "output_type": "execute_result",
          "data": {
            "text/plain": [
              "True"
            ]
          },
          "metadata": {},
          "execution_count": 8
        }
      ]
    },
    {
      "cell_type": "code",
      "source": [
        "!pip install sense2vec\n",
        "!wget https://github.com/explosion/sense2vec/releases/download/v1.0.0/s2v_reddit_2015_md.tar.gz\n",
        "!tar -xvf  s2v_reddit_2015_md.tar.gz\n",
        "from sense2vec import Sense2Vec\n",
        "s2v = Sense2Vec().from_disk('s2v_old')"
      ],
      "metadata": {
        "id": "eiIk4EIREoZB"
      },
      "execution_count": null,
      "outputs": []
    },
    {
      "cell_type": "code",
      "source": [
        "text = \"\"\"The Greek historian knew what he was talking about. The Nile River fed Egyptian civilization for hundreds of years. The Longest River the Nile is 4,160 miles long—the world’s longest river. It begins near the equator in Africa and flows north to the Mediterranean Sea. In the south the Nile churns with cataracts. A cataract is a waterfall. Near the sea the Nile branches into a delta. A delta is an area near a river’s mouth where the water deposits fine soil called silt. In the delta, the Nile divides into many streams. The river is called the upper Nile in the south and the lower Nile in the north. For centuries, heavy rains in Ethiopia caused the Nile to flood every summer. The floods deposited rich soil along the Nile’s shores. This soil was fertile, which means it was good for growing crops. Unlike the Tigris and Euphrates, the Nile River flooded at the same time every year, so farmers could predict when to plant their crops. Red Land, Black Land The ancient Egyptians lived in narrow bands of land on each side of the Nile. They called this region the black land because of the fertile soil that the floods deposited. The red land was the barren desert beyond the fertile region. Weather in Egypt was almost always the same. Eight months of the year were sunny and hot. The four months of winter were sunny but cooler. Most of the region received only an inch of rain a year. The parts of Egypt not near the Nile were a desert. Isolation The harsh desert acted as a barrier to keep out enemies. The Mediterranean coast was swampy and lacked good harbors. For these reasons, early Egyptians stayed close to home. Each year, Egyptian farmers watched for white birds called ibises, which flew up from the south. When the birds arrived, the annual flood waters would soon follow. After the waters drained away, farmers could plant seeds in the fertile soil. Agricultural Techniques By about 2400 B.C., farmers used technology to expand their farmland. Working together, they dug irrigation canals that carried river water to dry areas. Then they used a tool called a shaduf to spread the water across the fields. These innovative, or new, techniques gave them more farmland. Egyptian Crops Ancient Egyptians grew a large variety of foods. They were the first to grind wheat into flour and to mix the flour with yeast and water to make dough rise into bread. They grew vegetables such as lettuce, radishes, asparagus, and cucumbers. Fruits included dates, figs, grapes, and watermelons. Egyptians also grew the materials for their clothes. They were the first to weave fibers from flax plants into a fabric called linen. Lightweight linen cloth was perfect for hot Egyptian days. Men wore linen wraps around their waists. Women wore loose, sleeveless dresses. Egyptians also wove marsh grasses into sandals. Egyptian Houses Egyptians built houses using bricks made of mud from the Nile mixed with chopped straw. They placed narrow windows high in the walls to reduce bright sunlight. Egyptians often painted walls white to reflect the blazing heat. They wove sticks and palm trees to make roofs. Inside, woven reed mats covered the dirt floor. Most Egyptians slept on mats covered with linen sheets. Wealthy citizens enjoyed bed frames and cushions. Egyptian nobles had fancier homes with tree-lined courtyards for shade. Some had a pool filled with lotus blossoms and fish. Poorer Egyptians simply went to the roof to cool off after sunset. They often cooked, ate, and even slept outside. Egypt’s economy depended on farming. However, the natural resources of the area allowed other economic activities to develop too. The Egyptians wanted valuable metals that were not found in the black land. For example, they wanted copper to make tools and weapons. Egyptians looked for copper as early as 6000 B.C. Later they learned that iron was stronger, and they sought it as well. Ancient Egyptians also desired gold for its bright beauty. The Egyptian word for gold was nub. Nubia was the Egyptian name for the area of the upper Nile that had the richest gold mines in Africa. Mining minerals was difficult. Veins (long streaks) of copper, iron, and bronze were hidden inside desert mountains in the hot Sinai Peninsula, east of Egypt. Even during the cool season, chipping minerals out of the rock was miserable work. Egyptians mined precious stones too. They were probably the first people in the world to mine turquoise. The Egyptians also mined lapis lazuli. These beautiful blue stones were used in jewelry.The Nile had fish and other wildlife that Egyptians wanted. To go on the river, Egyptians made lightweight rafts by binding together reeds. They used everything from nets to harpoons to catch fish. One ancient painting even shows a man ready to hit a catfish with a wooden hammer. More adventurous hunters speared hippopotamuses and crocodiles along the Nile. Egyptians also captured quail with nets. They used boomerangs to knock down flying ducks and geese. (A boomerang is a curved stick that returns to the person who threw it.) Eventually, Egyptians equipped their reed boats with sails and oars. The Nile then became a highway. The river’s current was slow, so boaters used paddles to go faster when they traveled north with the current. Going south, they raised a sail and let the winds that blew in that direction push them. The Nile provided so well for Egyptians that sometimes they had surpluses, or more goods than they needed. They began to trade with each other. Ancient Egypt had no money, so people exchanged goods that they grew or made. This method of trade is called bartering. Egypt prospered along the Nile. This prosperity made life easier and provided greater opportunities for many Egyptians. When farmers produce food surpluses, the society’s economy begins to expand. Cities emerge as centers of culture and power, and people learn to do jobs that do not involve agriculture. For example, some ancient Egyptians learned to be scribes, people whose job was to write and keep records. As Egyptian civilization grew more complex, people took on jobs other than that of a farmer or scribe. Some skilled artisans erected stone or brick houses and temples. Other artisans made pottery, incense, mats, furniture, linen clothing, sandals, or jewelry. A few Egyptians traveled to the upper Nile to trade with other Africans. These traders took Egyptian products such as scrolls, linen, gold, and jewelry. They brought back exotic woods, animal skins, and live beasts. As Egypt grew, so did its need to organize. Egyptians created a government that divided the empire into 42 provinces. Many officials worked to keep the provinces running smoothly. Egypt also created an army to defend itself. One of the highest jobs in Egypt was to be a priest. Priests followed formal rituals and took care of the temples. Before entering a temple, a priest bathed and put on special linen garments and white sandals. Priests cleaned the sacred statues in temples, changed their clothes, and even fed them meals. Together, the priests and the ruler held ceremonies to please the gods. Egyptians believed that if the gods were angry, the Nile would not flood. As a result, crops would not grow, and people would die. So the ruler and the priests tried hard to keep the gods happy. By doing so, they hoped to maintain the social and political order. Slaves were at the bottom of society. In Egypt, people became slaves if they owed a debt, committed a crime, or were captured in war. Egyptian slaves were usually freed after a period of time. One exception was the slaves who had to work in the mines. Many died from the exhausting labor. Egypt was one of the best places in the ancient world to be a woman. Unlike other ancient African cultures, in Egyptian society men and women had fairly equal rights. For example, they could both own and manage their own property. The main job of most women was to care for their children and home, but some did other jobs too. Some women wove cloth. Others worked with their husbands in fields or workshops. Some women, such as Queen Tiy, even rose to important positions in the government. Children in Egypt played with toys such as dolls, animal figures, board games, and marbles. Their parents made the toys from wood or clay. Boys and girls also played rough physical games with balls made of leather or reeds. Boys and some girls from wealthy families went to schools run by scribes or priests. Most other children learned their parents’ jobs. Almost all Egyptians married when they were in their early teens. As in many ancient societies, much of the knowledge of Egypt came about as priests studied the world to find ways to please the gods. Other advances came about because of practical discoveries. Egyptian priests studied the sky as part of their religion. About 5,000 years ago, they noticed that a star now called Sirius appeared shortly before the Nile began to flood. The star returned to the same position in 365 days. Based on that, Egyptians developed the world’s first practical calendar. The Egyptians developed some of the first geometry. Each year the Nile’s floods washed away land boundaries. To restore property lines, surveyors measured the land by using ropes that were knotted at regular intervals. Geometric shapes such as squares and triangles were sacred to Egyptians. Architects used them in the design of royal temples and monuments. Egyptian doctors often prepared dead bodies for burial, so they knew the parts of the body. That knowledge helped them perform some of the world’s first surgery. Some doctors specialized in using medicines made of herbs. Egyptian medicine was far from perfect. Doctors believed that the heart controlled thought and the brain circulated blood, which is the opposite of what is known now. Some Egyptian treatments would raise eyebrows today. One “cure” for an upset stomach was to eat a hog’s tooth crushed inside sugar cakes! Beginning about 3000 B.C., Egyptians developed a writing system using hieroglyphs. Hieroglyphs Hieroglyphs are pictures that stand for different words or sounds. Early Egyptians created a hieroglyphic system with about 700 characters. Over time the system grew to include more than 6,000 symbols. The Egyptians also developed a paperlike material called papyrus papyrus from a reed of the same name. Egyptians cut the stems into strips, pressed them, and dried them into sheets that could be rolled into scrolls. Papyrus scrolls were light and easy to carry. With them, Egyptians created some of the first books. Legend says a king named Narmer united Upper and Lower Egypt. Some historians think Narmer actually represents several kings who gradually joined the two lands. After Egypt was united, its ruler wore the Double Crown. It combined the red Crown of Lower Egypt with the white Crown of Upper Egypt. The first dynasty of the Egyptian empire began about 2925 B.C. A dynasty is a line of rulers from the same family. When a king died, one of his children usually took his place as ruler. The order in which members of a royal family inherit a throne is called the succession. More than 30 dynasties ruled ancient Egypt. Historians divide ancient Egyptian dynasties into the Old Kingdom, the Middle Kingdom, and the New Kingdom. The Old Kingdom started about 2575 B.C., when the Egyptian empire was gaining strength. The king of Egypt became known as the pharaoh pharaoh. The word pharaoh meant “great house,” and it was originally used to describe the king’s palace. Later it became the title of the king himself. The pharaoh ruled from the capital city of Memphis. The ancient Egyptians thought the pharaoh was a child of the gods and a god himself. Egyptians believed that if the pharaoh and his subjects honored the gods, their lives would be happy. If Egypt suffered hard times for a long period, the people blamed the pharaoh for angering the gods. In such a case, a rival might drive him from power and start a new dynasty. Because the pharaoh was thought to be a god, government and religion were not separate in ancient Egypt. Priests had much power in the government. Many high officials were priests. The first rulers of Egypt were often buried in an underground tomb topped by mud brick. Soon, kings wanted more permanent monuments. They replaced the mud brick with a small pyramid of brick or stone. A pyramid is a structure shaped like a triangle, with four sides that meet at a point. About 2630 B.C., King Djoser built a much larger pyramid over his tomb. It is called a step pyramid because its sides rise in a series of giant steps. It is the oldest-known large stone structure in the world. About 80 years later, a pharaoh named Khufu decided he wanted a monument that would show the world how great he was. He ordered the construction of the largest pyramid ever built. Along its base, each side was about 760 feet long. The core was built from 2.3 million blocks of stone. Building the Great Pyramid was hard work. Miners cut the huge blocks of stone using copper saws and chisels. These tools were much softer than the iron tools developed later. Other teams of workers pulled the stone slabs up long, sloping ramps to their place on the pyramid. Near the top of the pyramid, the ramps ended. Workers dragged each heavy block hundreds of feet and then set it in place. Farmers did the heavy labor of hauling stone during the season when the Nile flooded their fields. Skilled stonecutters and overseers worked year-round. The Great Pyramid took nearly 20 years to build. An estimated 20,000 Egyptians worked on it. A city called Giza was built for the pyramid workers and the people who fed, clothed, and housed them. Eventually, Egyptians stopped building pyramids. One reason is that the pyramids drew attention to the tombs inside them. Grave robbers broke into the tombs to steal the treasure buried with the pharaohs. Sometimes they also stole the mummies. Egyptians believed that if a tomb was robbed, the person buried there could not have a happy afterlife. During the New Kingdom, pharaohs began building more secret tombs in an area called the Valley of the Kings. The burial chambers were hidden in mountains near the Nile. This way, the pharaohs hoped to protect their bodies and treasures from robbers. Both the pyramids and later tombs had several passageways leading to different rooms. This was to confuse grave robbers about which passage to take. Sometimes relatives, such as the queen, were buried in the extra rooms. Tombs were supposed to be the palaces of pharaohs in the afterlife. Mourners filled the tomb with objects ranging from food to furniture that the mummified pharaoh would need. Some tombs contained small statues that were supposed to be servants for the dead person. Egyptian artists decorated royal tombs with wall paintings and sculptures carved into the walls. Art was meant to glorify both the gods and the dead person. A sculpture of a dead pharaoh had “perfect” features, no matter how he really looked. Artists also followed strict rules about how to portray humans. Paintings showed a person’s head, arms, and legs from the side. They showed the front of the body from the neck down to the waist. Wall paintings showed pharaohs enjoying themselves so they could have a happy afterlife. One favorite scene was of the pharaoh fishing in a papyrus marsh. Warlike kings were often portrayed in battle. Scenes might also show people providing for the needs of the dead person. Such activities included growing and preparing food, caring for animals, and building boats. As hard as the pharaohs tried to hide themselves, robbers stole the treasures from almost every tomb. Only a secret tomb built for a New Kingdom pharaoh was ever found with much of its treasure untouched. The dazzling riches found in this tomb show how much wealth the pharaohs spent preparing for the afterlife. By about 2130 B.C., Egyptian kings began to lose their power to local rulers of the provinces. For about 500 more years, the kings held Egypt together, but with a much weaker central government. This period of Egyptian history is called the Middle Kingdom. Rulers during the Middle Kingdom also faced challenges from outside Egypt. A nomadic people called the Hyksos invaded Egypt from the northeast. Their army conquered by using better weapons and horse-drawn chariots, which were new to Egyptians. After about 100 years, the Egyptians drove out the Hyksos and began the New Kingdom.\"\"\""
      ],
      "metadata": {
        "id": "UDl8uh95EwrB"
      },
      "execution_count": null,
      "outputs": []
    },
    {
      "cell_type": "code",
      "source": [
        "from summarizer import Summarizer\n",
        "from textwrap3 import wrap\n",
        "model = Summarizer()\n",
        "result = model(text, min_length=60, max_length = 200 , ratio = 0.2)\n",
        "summarized_text = ''.join(result)\n",
        "for wrp in wrap(summarized_text, 150):\n",
        "  print (wrp)"
      ],
      "metadata": {
        "colab": {
          "base_uri": "https://localhost:8080/",
          "height": 567,
          "referenced_widgets": [
            "a2eb6f597a3f400993b4fa973483370e",
            "b3bd224eb04940ab969b718d50a37555",
            "4ed951f8df24496e8980bd8bfc3bd377",
            "e925c484cf3a470aa34de78058752fb0",
            "ff8571bdc8a840cea3da2050aa508935",
            "b809e3da25a8493eb02fdd62d94e6ccb",
            "85c59c872d19496e9d7905838baaa36f",
            "937eb1994df749568cc8d4e9090bc18c",
            "332fafcd12d944e2a68ae9bedb77fe7b",
            "fe0b34b9817b440ab6ab9ac4a0363c19",
            "92171fe6697945c2b6c1c1d337c7c6aa",
            "7f43430d3dd848dc8800c6ae63572a37",
            "78034e38ce99405bb3a3dde459e492e7",
            "c6e5592cb4b44b75a6931c8b6c0b642b",
            "b19b021a1de042638ce3e3c19d359fdf",
            "0498633056df4b8d8577b86e17a153ba",
            "c2575327432e474fa540984f311939a1",
            "2ca51929bc5d4d7b984ef39ccbd50dfd",
            "f0f8846b474942e8b9576ff75ceb6408",
            "a94e35e6f4e4419f8a134f11e17564d3",
            "5a3298f583d3490bbebe6e6821545064",
            "44a3ddc740764268b3f8573ffa338e10",
            "5009f4d2f3b944c4bc64ecdc06a4095f",
            "84f55a952eeb41c09504202fa086612e",
            "53b1c0091b9243248bcccaa7c8f8c9b6",
            "775a081ed3c24fc4a6ea2bbdf6e2faeb",
            "2295599f9f4a4f9bb81b012e5753809d",
            "e103b4aa8ce74997bd1390ea0a047004",
            "c940e9c13b334638bb6d38cf2eb6da63",
            "7ed2da40d1c641d894249dde0458faf1",
            "8cce7ba132c247c893398aa8645931f7",
            "b8bc63aad3d447a697c9635d10eb6198",
            "859cf988c01546c3bc544021f8a8c7a5",
            "9e762b1ea58240abb02c6e344cd6fa37",
            "4e85965d6bcc4ca086230f4df86ecbaf",
            "af986442179b4217bf0e7df7af093e43",
            "4d2daed777c64282a1fda203bbc589e8",
            "104b0de15b114e07b59bef22a1dad919",
            "3b5904739b9c49e89bc52ec4d309d5ef",
            "0199c2cbc3464a9c8c21bbaef80f2720",
            "8ba39f37eae244fa826d477840de5428",
            "78440fe080c142e3b6888c86a869a1ba",
            "9dc3e2ddaff549c6a38b2abc6342de02",
            "1129939ec7014a2fbf6f429199451aed"
          ]
        },
        "id": "ExA0p3pOE65L",
        "outputId": "c56161e8-a406-4575-9cc4-f6556e75dfb7"
      },
      "execution_count": null,
      "outputs": [
        {
          "output_type": "display_data",
          "data": {
            "text/plain": [
              "Downloading (…)lve/main/config.json:   0%|          | 0.00/571 [00:00<?, ?B/s]"
            ],
            "application/vnd.jupyter.widget-view+json": {
              "version_major": 2,
              "version_minor": 0,
              "model_id": "a2eb6f597a3f400993b4fa973483370e"
            }
          },
          "metadata": {}
        },
        {
          "output_type": "display_data",
          "data": {
            "text/plain": [
              "Downloading pytorch_model.bin:   0%|          | 0.00/1.34G [00:00<?, ?B/s]"
            ],
            "application/vnd.jupyter.widget-view+json": {
              "version_major": 2,
              "version_minor": 0,
              "model_id": "7f43430d3dd848dc8800c6ae63572a37"
            }
          },
          "metadata": {}
        },
        {
          "output_type": "stream",
          "name": "stderr",
          "text": [
            "Some weights of the model checkpoint at bert-large-uncased were not used when initializing BertModel: ['cls.predictions.transform.dense.bias', 'cls.predictions.transform.LayerNorm.bias', 'cls.seq_relationship.bias', 'cls.predictions.transform.dense.weight', 'cls.predictions.transform.LayerNorm.weight', 'cls.predictions.decoder.weight', 'cls.seq_relationship.weight', 'cls.predictions.bias']\n",
            "- This IS expected if you are initializing BertModel from the checkpoint of a model trained on another task or with another architecture (e.g. initializing a BertForSequenceClassification model from a BertForPreTraining model).\n",
            "- This IS NOT expected if you are initializing BertModel from the checkpoint of a model that you expect to be exactly identical (initializing a BertForSequenceClassification model from a BertForSequenceClassification model).\n"
          ]
        },
        {
          "output_type": "display_data",
          "data": {
            "text/plain": [
              "Downloading (…)solve/main/vocab.txt:   0%|          | 0.00/232k [00:00<?, ?B/s]"
            ],
            "application/vnd.jupyter.widget-view+json": {
              "version_major": 2,
              "version_minor": 0,
              "model_id": "5009f4d2f3b944c4bc64ecdc06a4095f"
            }
          },
          "metadata": {}
        },
        {
          "output_type": "display_data",
          "data": {
            "text/plain": [
              "Downloading (…)okenizer_config.json:   0%|          | 0.00/28.0 [00:00<?, ?B/s]"
            ],
            "application/vnd.jupyter.widget-view+json": {
              "version_major": 2,
              "version_minor": 0,
              "model_id": "9e762b1ea58240abb02c6e344cd6fa37"
            }
          },
          "metadata": {}
        },
        {
          "output_type": "stream",
          "name": "stderr",
          "text": [
            "/usr/local/lib/python3.10/dist-packages/sklearn/cluster/_kmeans.py:870: FutureWarning: The default value of `n_init` will change from 10 to 'auto' in 1.4. Set the value of `n_init` explicitly to suppress the warning\n",
            "  warnings.warn(\n"
          ]
        },
        {
          "output_type": "stream",
          "name": "stdout",
          "text": [
            "The Nile River fed Egyptian civilization for hundreds of years. Red Land, Black Land The ancient Egyptians lived in narrow bands of land on each side\n",
            "of the Nile. The red land was the barren desert beyond the fertile region. Working together, they dug irrigation canals that carried river water to\n",
            "dry areas. Then they used a tool called a shaduf to spread the water across the fields. They were the first to grind wheat into flour and to mix the\n",
            "flour with yeast and water to make dough rise into bread. Egyptians often painted walls white to reflect the blazing heat. Even during the cool\n",
            "season, chipping minerals out of the rock was miserable work. Eventually, Egyptians equipped their reed boats with sails and oars. The Nile provided\n",
            "so well for Egyptians that sometimes they had surpluses, or more goods than they needed. Some skilled artisans erected stone or brick houses and\n",
            "temples. Priests followed formal rituals and took care of the temples. Before entering a temple, a priest bathed and put on special linen garments and\n",
            "white sandals. So the ruler and the priests tried hard to keep the gods happy. Children in Egypt played with toys such as dolls, animal figures, board\n",
            "games, and marbles. Early Egyptians created a hieroglyphic system with about 700 characters. Legend says a king named Narmer united Upper and Lower\n",
            "Egypt. When a king died, one of his children usually took his place as ruler. The order in which members of a royal family inherit a throne is called\n",
            "the succession. Historians divide ancient Egyptian dynasties into the Old Kingdom, the Middle Kingdom, and the New Kingdom. The word pharaoh meant\n",
            "“great house,” and it was originally used to describe the king’s palace. They replaced the mud brick with a small pyramid of brick or stone. He\n",
            "ordered the construction of the largest pyramid ever built. Farmers did the heavy labor of hauling stone during the season when the Nile flooded their\n",
            "fields. One reason is that the pyramids drew attention to the tombs inside them. This way, the pharaohs hoped to protect their bodies and treasures\n",
            "from robbers. Some tombs contained small statues that were supposed to be servants for the dead person. Such activities included growing and preparing\n",
            "food, caring for animals, and building boats. The dazzling riches found in this tomb show how much wealth the pharaohs spent preparing for the\n",
            "afterlife. By about 2130 B.C., Egyptian kings began to lose their power to local rulers of the provinces.\n"
          ]
        }
      ]
    },
    {
      "cell_type": "code",
      "source": [
        "sentences = nltk.sent_tokenize(summarized_text)\n",
        "print(sentences)"
      ],
      "metadata": {
        "colab": {
          "base_uri": "https://localhost:8080/"
        },
        "id": "f0VqDrA3FAMw",
        "outputId": "2ba43f52-87d5-4821-8f8c-00ca30701f12"
      },
      "execution_count": null,
      "outputs": [
        {
          "output_type": "stream",
          "name": "stdout",
          "text": [
            "['The Nile River fed Egyptian civilization for hundreds of years.', 'Red Land, Black Land The ancient Egyptians lived in narrow bands of land on each side of the Nile.', 'The red land was the barren desert beyond the fertile region.', 'Working together, they dug irrigation canals that carried river water to dry areas.', 'Then they used a tool called a shaduf to spread the water across the fields.', 'They were the first to grind wheat into flour and to mix the flour with yeast and water to make dough rise into bread.', 'Egyptians often painted walls white to reflect the blazing heat.', 'Even during the cool season, chipping minerals out of the rock was miserable work.', 'Eventually, Egyptians equipped their reed boats with sails and oars.', 'The Nile provided so well for Egyptians that sometimes they had surpluses, or more goods than they needed.', 'Some skilled artisans erected stone or brick houses and temples.', 'Priests followed formal rituals and took care of the temples.', 'Before entering a temple, a priest bathed and put on special linen garments and white sandals.', 'So the ruler and the priests tried hard to keep the gods happy.', 'Children in Egypt played with toys such as dolls, animal figures, board games, and marbles.', 'Early Egyptians created a hieroglyphic system with about 700 characters.', 'Legend says a king named Narmer united Upper and Lower Egypt.', 'When a king died, one of his children usually took his place as ruler.', 'The order in which members of a royal family inherit a throne is called the succession.', 'Historians divide ancient Egyptian dynasties into the Old Kingdom, the Middle Kingdom, and the New Kingdom.', 'The word pharaoh meant “great house,” and it was originally used to describe the king’s palace.', 'They replaced the mud brick with a small pyramid of brick or stone.', 'He ordered the construction of the largest pyramid ever built.', 'Farmers did the heavy labor of hauling stone during the season when the Nile flooded their fields.', 'One reason is that the pyramids drew attention to the tombs inside them.', 'This way, the pharaohs hoped to protect their bodies and treasures from robbers.', 'Some tombs contained small statues that were supposed to be servants for the dead person.', 'Such activities included growing and preparing food, caring for animals, and building boats.', 'The dazzling riches found in this tomb show how much wealth the pharaohs spent preparing for the afterlife.', 'By about 2130 B.C., Egyptian kings began to lose their power to local rulers of the provinces.']\n"
          ]
        }
      ]
    },
    {
      "cell_type": "code",
      "source": [
        "def get_nouns_multipartite(content):\n",
        "    out=[]\n",
        "    extractor = pke.unsupervised.MultipartiteRank()\n",
        "    extractor.load_document(input=content,language='en')\n",
        "    # pos = {'PROPN'}\n",
        "    pos = {'PROPN','NOUN'}\n",
        "    extractor.candidate_selection(pos=pos)\n",
        "    extractor.candidate_weighting(alpha=1.1,\n",
        "                                  threshold=0.75,\n",
        "                                  method='average')\n",
        "    keyphrases = extractor.get_n_best(n=15)\n",
        "\n",
        "    for val in keyphrases:\n",
        "      out.append(val[0])\n",
        "\n",
        "    return out\n",
        "\n",
        "keywords = get_nouns_multipartite(summarized_text)\n",
        "print(keywords)"
      ],
      "metadata": {
        "colab": {
          "base_uri": "https://localhost:8080/"
        },
        "id": "EVJfGjn8FDwf",
        "outputId": "6b49062d-e6ae-4361-d9cc-a9aaa7813cf2"
      },
      "execution_count": null,
      "outputs": [
        {
          "output_type": "stream",
          "name": "stdout",
          "text": [
            "['nile river', 'egyptians', 'red land', 'king', 'temples', 'stone', 'priests', 'river water', 'brick houses', 'ruler', 'nile', 'old kingdom', 'pyramid', 'word pharaoh', 'egypt']\n"
          ]
        }
      ]
    },
    {
      "cell_type": "code",
      "source": [
        "filtered_keywords = []\n",
        "senses = {}\n",
        "for word in keywords:\n",
        "  sense = s2v.get_best_sense(word)\n",
        "  if sense != None:\n",
        "    sense = sense.split(\"|\")[1]\n",
        "    if sense not in senses:\n",
        "      senses[sense] = 1\n",
        "    else:\n",
        "      senses[sense] += 1\n",
        "    if sense == 'ADJ' or sense == 'ADV' or sense == 'VERB':\n",
        "      continue\n",
        "    else:\n",
        "      filtered_keywords.append(word)\n",
        "\n",
        "  else:\n",
        "    if 'None' not in senses:\n",
        "      senses['None'] = 1\n",
        "    else:\n",
        "      senses['None'] += 1\n",
        "\n",
        "print(filtered_keywords)"
      ],
      "metadata": {
        "colab": {
          "base_uri": "https://localhost:8080/"
        },
        "id": "jazAAZjBFIit",
        "outputId": "dceb0793-a1e3-453a-fd47-ca1c645ec70c"
      },
      "execution_count": null,
      "outputs": [
        {
          "output_type": "stream",
          "name": "stdout",
          "text": [
            "['nile river', 'egyptians', 'king', 'temples', 'stone', 'priests', 'river water', 'brick houses', 'ruler', 'nile', 'old kingdom', 'pyramid', 'egypt']\n"
          ]
        }
      ]
    },
    {
      "cell_type": "code",
      "source": [
        "import matplotlib.pyplot as plt\n",
        "sense = list(senses.keys())\n",
        "counts = list(senses.values())\n",
        "\n",
        "fig = plt.figure(figsize = (6, 3))\n",
        "\n",
        "# creating the bar plot\n",
        "plt.bar(sense, counts, color ='maroon',\n",
        "        width = 0.4)\n",
        "\n",
        "plt.xlabel(\"Senses\",fontweight = 'bold')\n",
        "plt.ylabel(\"Count of sense\",fontweight = 'bold')\n",
        "plt.title(\"Counts of each sense for the keywords extracted\",fontweight = 'bold')\n",
        "plt.show()"
      ],
      "metadata": {
        "colab": {
          "base_uri": "https://localhost:8080/",
          "height": 333
        },
        "id": "TwBYq5BkFOQh",
        "outputId": "e40d2d27-bee0-4b2b-edbc-4d0594a2ec65"
      },
      "execution_count": null,
      "outputs": [
        {
          "output_type": "display_data",
          "data": {
            "text/plain": [
              "<Figure size 600x300 with 1 Axes>"
            ],
            "image/png": "[encoded data removed]"
          },
          "metadata": {}
        }
      ]
    },
    {
      "cell_type": "code",
      "source": [
        "from flashtext import KeywordProcessor\n",
        "\n",
        "def get_sentences_for_keyword(keywords, sentences):\n",
        "  keyword_processor = KeywordProcessor()\n",
        "  keyword_sentences = {}\n",
        "  for word in keywords:\n",
        "        keyword_sentences[word] = []\n",
        "        keyword_processor.add_keyword(word)\n",
        "  for sentence in sentences:\n",
        "        keywords_found = keyword_processor.extract_keywords(sentence)\n",
        "        for key in keywords_found:\n",
        "          keyword_sentences[key].append(sentence)\n",
        "  return keyword_sentences\n",
        "\n",
        "keyword_sentence_mapping = get_sentences_for_keyword(filtered_keywords, sentences)\n",
        "\n",
        "for keyword in filtered_keywords:\n",
        "  print(keyword)\n",
        "  print(keyword_sentence_mapping[keyword])\n"
      ],
      "metadata": {
        "colab": {
          "base_uri": "https://localhost:8080/"
        },
        "id": "7S1xovCMFUH7",
        "outputId": "df262ba6-900b-4bfd-f31b-41a799598ce5"
      },
      "execution_count": null,
      "outputs": [
        {
          "output_type": "stream",
          "name": "stdout",
          "text": [
            "nile river\n",
            "['The Nile River fed Egyptian civilization for hundreds of years.']\n",
            "egyptians\n",
            "['Red Land, Black Land The ancient Egyptians lived in narrow bands of land on each side of the Nile.', 'Egyptians often painted walls white to reflect the blazing heat.', 'Eventually, Egyptians equipped their reed boats with sails and oars.', 'The Nile provided so well for Egyptians that sometimes they had surpluses, or more goods than they needed.', 'Early Egyptians created a hieroglyphic system with about 700 characters.']\n",
            "king\n",
            "['Legend says a king named Narmer united Upper and Lower Egypt.', 'When a king died, one of his children usually took his place as ruler.', 'The word pharaoh meant “great house,” and it was originally used to describe the king’s palace.']\n",
            "temples\n",
            "['Some skilled artisans erected stone or brick houses and temples.', 'Priests followed formal rituals and took care of the temples.']\n",
            "stone\n",
            "['Some skilled artisans erected stone or brick houses and temples.', 'They replaced the mud brick with a small pyramid of brick or stone.', 'Farmers did the heavy labor of hauling stone during the season when the Nile flooded their fields.']\n",
            "priests\n",
            "['Priests followed formal rituals and took care of the temples.', 'So the ruler and the priests tried hard to keep the gods happy.']\n",
            "river water\n",
            "['Working together, they dug irrigation canals that carried river water to dry areas.']\n",
            "brick houses\n",
            "['Some skilled artisans erected stone or brick houses and temples.']\n",
            "ruler\n",
            "['So the ruler and the priests tried hard to keep the gods happy.', 'When a king died, one of his children usually took his place as ruler.']\n",
            "nile\n",
            "['Red Land, Black Land The ancient Egyptians lived in narrow bands of land on each side of the Nile.', 'The Nile provided so well for Egyptians that sometimes they had surpluses, or more goods than they needed.', 'Farmers did the heavy labor of hauling stone during the season when the Nile flooded their fields.']\n",
            "old kingdom\n",
            "['Historians divide ancient Egyptian dynasties into the Old Kingdom, the Middle Kingdom, and the New Kingdom.']\n",
            "pyramid\n",
            "['They replaced the mud brick with a small pyramid of brick or stone.', 'He ordered the construction of the largest pyramid ever built.']\n",
            "egypt\n",
            "['Children in Egypt played with toys such as dolls, animal figures, board games, and marbles.', 'Legend says a king named Narmer united Upper and Lower Egypt.']\n"
          ]
        }
      ]
    },
    {
      "cell_type": "code",
      "source": [
        "from collections import OrderedDict\n",
        "def sense2vec_get_distractors(word,s2v):\n",
        "  output = []\n",
        "  try:\n",
        "    word = word.lower()\n",
        "    word = word.replace(\" \", \"_\")\n",
        "    sense = s2v.get_best_sense(word, senses= [\"NOUN\", \"PERSON\",\"PRODUCT\",\"LOC\",\"ORG\",\"EVENT\",\"NORP\",\"WORK OF ART\",\"FAC\",\"GPE\",\"NUM\",\"FACILITY\"])\n",
        "    most_similar = s2v.most_similar(sense, n = 15)\n",
        "\n",
        "    for each_word in most_similar:\n",
        "          append_word = each_word[0].split(\"|\")[0].replace(\"_\", \" \").lower()\n",
        "          if append_word.lower() != word:\n",
        "              output.append(append_word.capitalize())\n",
        "    out = list(OrderedDict.fromkeys(output))\n",
        "  except:\n",
        "    out = []\n",
        "  return out\n"
      ],
      "metadata": {
        "id": "DCfQ_9w6FcdD"
      },
      "execution_count": null,
      "outputs": []
    },
    {
      "cell_type": "code",
      "source": [
        "distractors = {}\n",
        "for keyword in filtered_keywords:\n",
        "  distractors[keyword] = sense2vec_get_distractors(keyword,s2v)\n",
        "print(distractors)\n"
      ],
      "metadata": {
        "colab": {
          "base_uri": "https://localhost:8080/"
        },
        "id": "vd-IL-SyFhR1",
        "outputId": "6a4a65f2-2162-4e4e-bfd2-850f89f2823a"
      },
      "execution_count": null,
      "outputs": [
        {
          "output_type": "stream",
          "name": "stdout",
          "text": [
            "{'nile river': ['Himalayas', 'Mountain range', 'Mediterranean', 'Western coast', 'Nile', 'Inland sea', 'Mediterranean sea', 'Headwaters', 'Southern continent', 'Steppes', 'Island', 'Marshlands', 'Eastern coast', 'Little island'], 'egyptians': ['Arabs', 'Persians', 'Turks', 'Egypt', 'Assyrians', 'Jordanians', 'Jews', 'Berbers', 'Zoroastrians', 'Ethiopians', 'Indonesians', 'Babylonians', 'Armenians', 'Afghans'], 'king': ['New king', 'Usurper', 'Throne', 'Current king', 'Queen', 'Kings', 'Prince', 'Lords', 'Emperor', 'Rightful king', 'True king', 'Kingdom', 'Real king', 'Great king'], 'temples': ['Temple', 'Shrines', 'Cathedrals', 'Monasteries', 'Holy sites', 'Statues', 'Old temples', 'Tombs', 'Holy places', 'Ancient temples', 'Many temples', 'Buddhist temples', 'Monuments', 'Palaces', 'Convents'], 'stone': ['Stones', 'Iron', 'Same stone', 'Granite', 'Marble', 'Obsidian', 'Wood', 'Anvil', 'Slabs', 'Solid stone', 'Only stone', 'Smooth stone', 'Big stone', 'Wooden planks'], 'priests': ['Clergy', 'Many priests', 'Rabbis', 'Pastors', 'Bishops', 'Catholic priests', 'Clergymen', 'Clerics', 'Nuns', 'Holy men', 'Preists', 'Priest', 'Priestesses'], 'river water': ['Sea water', 'Ocean water', 'Salt water', 'Fresh water', 'Water', 'Seawater', 'Lake water', 'Same water', 'Pool water', 'Dirty water', 'Natural water', 'Water source', 'Water sources', 'So much water', ' water'], 'brick houses': ['Wooden houses', 'Old houses', 'Most houses', 'Old buildings', 'Stone houses', 'Small homes', 'Old homes', 'Skyscrapers', 'Small houses', 'Modern buildings', 'Fireplaces', 'Shacks', 'Many buildings', 'Concrete buildings', 'Older houses'], 'ruler': ['Rulers', 'Emperor', 'Known world', 'Kingdom', 'Monarch', 'True ruler', 'Throne', 'King', 'Rightful ruler', 'First ruler', 'British monarch', 'New ruler', 'Emperors', 'Absolute ruler', 'Kingdoms'], 'nile': ['Euphrates', 'Sahara', 'Yellow river', 'Headwaters', 'Mediterranean', 'Mediterranean sea', 'Nile river', 'Great river', 'Himalayas', 'Western coast', 'Mesopotamia'], 'old kingdom': ['Iron age', 'First era', 'Late antiquity', 'Hellenistic period', 'Roman world', 'Antiquity', 'Ancient world', 'Viking age', 'Justinian', 'New kingdom', 'Renaissance', 'Ancient egypt', 'Early middle ages'], 'pyramid': ['Square', 'Scaffolding', 'Very top', 'Large square', 'Pyramid structure', 'Bottom level', 'Big square', 'Stone slab', 'Oblong', 'Very center', 'Giant cube', 'Center', 'Rectangle', 'Concentric circles'], 'egypt': ['Tunisia', 'Sudan', 'Morocco', 'Lebanon', 'Arabia', 'Ethiopia', 'Yemen', 'Levant', 'Pakistan', 'Mali', 'Algeria', 'Indonesia', 'Mauritania', 'Sinai']}\n"
          ]
        }
      ]
    },
    {
      "cell_type": "code",
      "source": [
        "from similarity.normalized_levenshtein import NormalizedLevenshtein\n",
        "normalized_levenshtein = NormalizedLevenshtein()\n",
        "threshold = 0.5\n",
        "filtered_distractors_levenshtein_distance = {}\n",
        "distractors_new = {}\n",
        "\n",
        "for word in filtered_keywords:\n",
        "   results_list = []\n",
        "   for x in distractors[word]:\n",
        "     dist = normalized_levenshtein.distance(x.lower(),word.lower())\n",
        "     if dist > threshold:\n",
        "      results_list.append([x,round(dist,3)])\n",
        "   filtered_distractors_levenshtein_distance[word] = results_list\n",
        "   filtered_distractors_levenshtein_distance[word].sort(key = lambda x: x[1],reverse = True)\n",
        "\n",
        "print(filtered_distractors_levenshtein_distance)\n"
      ],
      "metadata": {
        "colab": {
          "base_uri": "https://localhost:8080/"
        },
        "id": "nA1_6pmvFpFy",
        "outputId": "205e6e52-8b65-4625-c531-0f48abc112cd"
      },
      "execution_count": null,
      "outputs": [
        {
          "output_type": "stream",
          "name": "stdout",
          "text": [
            "{'nile river': [['Marshlands', 1.0], ['Himalayas', 0.9], ['Headwaters', 0.9], ['Island', 0.9], ['Western coast', 0.846], ['Eastern coast', 0.846], ['Inland sea', 0.8], ['Steppes', 0.8], ['Mountain range', 0.786], ['Southern continent', 0.778], ['Mediterranean sea', 0.765], ['Mediterranean', 0.692], ['Little island', 0.692], ['Nile', 0.6]], 'egyptians': [['Jews', 0.889], ['Berbers', 0.889], ['Arabs', 0.778], ['Turks', 0.778], ['Afghans', 0.667], ['Indonesians', 0.636], ['Jordanians', 0.6], ['Zoroastrians', 0.583], ['Persians', 0.556], ['Assyrians', 0.556], ['Armenians', 0.556], ['Babylonians', 0.545]], 'king': [['Usurper', 1.0], ['Queen', 1.0], ['Lords', 1.0], ['Emperor', 1.0], ['Throne', 0.833], ['Rightful king', 0.692], ['Current king', 0.667], ['Prince', 0.667], ['Great king', 0.6], ['True king', 0.556], ['Real king', 0.556]], 'temples': [['Convents', 0.875], ['Holy sites', 0.8], ['Monuments', 0.778], ['Monasteries', 0.727], ['Shrines', 0.714], ['Statues', 0.714], ['Palaces', 0.714], ['Cathedrals', 0.7], ['Holy places', 0.636], ['Tombs', 0.571], ['Buddhist temples', 0.562], ['Ancient temples', 0.533]], 'stone': [['Anvil', 1.0], ['Obsidian', 0.875], ['Wooden planks', 0.846], ['Marble', 0.833], ['Wood', 0.8], ['Slabs', 0.8], ['Granite', 0.714], ['Iron', 0.6], ['Smooth stone', 0.583], ['Solid stone', 0.545]], 'priests': [['Holy men', 1.0], ['Clergymen', 0.889], ['Clergy', 0.857], ['Bishops', 0.857], ['Clerics', 0.857], ['Nuns', 0.857], ['Rabbis', 0.714], ['Pastors', 0.714], ['Catholic priests', 0.562]], 'river water': [['Water source', 0.75], ['Water sources', 0.692], ['Water', 0.545], ['So much water', 0.538]], 'brick houses': [['Many buildings', 0.929], ['Old buildings', 0.923], ['Skyscrapers', 0.917], ['Modern buildings', 0.875], ['Concrete buildings', 0.833], ['Fireplaces', 0.75], ['Shacks', 0.75], ['Small homes', 0.583], ['Old homes', 0.583]], 'ruler': [['Kingdom', 1.0], ['King', 1.0], ['Kingdoms', 1.0], ['Known world', 0.909], ['British monarch', 0.867], ['Monarch', 0.857], ['Throne', 0.833], ['Emperors', 0.75], ['Emperor', 0.714], ['Rightful ruler', 0.643], ['Absolute ruler', 0.643], ['First ruler', 0.545]], 'nile': [['Sahara', 1.0], ['Mesopotamia', 1.0], ['Western coast', 0.923], ['Headwaters', 0.9], ['Euphrates', 0.889], ['Mediterranean sea', 0.882], ['Mediterranean', 0.846], ['Yellow river', 0.833], ['Great river', 0.818], ['Himalayas', 0.778], ['Nile river', 0.6]], 'old kingdom': [['First era', 1.0], ['Renaissance', 1.0], ['Ancient world', 0.923], ['Ancient egypt', 0.923], ['Iron age', 0.909], ['Roman world', 0.909], ['Antiquity', 0.909], ['Late antiquity', 0.857], ['Hellenistic period', 0.833], ['Early middle ages', 0.824], ['Justinian', 0.818], ['Viking age', 0.727]], 'pyramid': [['Big square', 1.0], ['Stone slab', 1.0], ['Oblong', 1.0], ['Giant cube', 1.0], ['Center', 1.0], ['Large square', 0.917], ['Bottom level', 0.917], ['Scaffolding', 0.909], ['Very center', 0.909], ['Rectangle', 0.889], ['Concentric circles', 0.889], ['Very top', 0.875], ['Square', 0.857], ['Pyramid structure', 0.588]], 'egypt': [['Tunisia', 1.0], ['Sudan', 1.0], ['Morocco', 1.0], ['Arabia', 1.0], ['Yemen', 1.0], ['Mali', 1.0], ['Indonesia', 1.0], ['Sinai', 1.0], ['Mauritania', 0.9], ['Pakistan', 0.875], ['Lebanon', 0.857], ['Algeria', 0.857], ['Ethiopia', 0.75], ['Levant', 0.667]]}\n"
          ]
        }
      ]
    },
    {
      "cell_type": "code",
      "source": [
        "for word in filtered_keywords:\n",
        "  distractors_list = []\n",
        "  i = 0\n",
        "  while i < min(len(filtered_distractors_levenshtein_distance[word]),10):\n",
        "    distractors_list.append(filtered_distractors_levenshtein_distance[word][i][0])\n",
        "    i += 1\n",
        "  distractors_new[word] = distractors_list\n",
        "\n",
        "print (distractors_new)"
      ],
      "metadata": {
        "colab": {
          "base_uri": "https://localhost:8080/"
        },
        "id": "tlefJPWwF2CX",
        "outputId": "0cc8497b-55e4-4d94-b4a0-6e350fe05799"
      },
      "execution_count": null,
      "outputs": [
        {
          "output_type": "stream",
          "name": "stdout",
          "text": [
            "{'nile river': ['Marshlands', 'Himalayas', 'Headwaters', 'Island', 'Western coast', 'Eastern coast', 'Inland sea', 'Steppes', 'Mountain range', 'Southern continent'], 'egyptians': ['Jews', 'Berbers', 'Arabs', 'Turks', 'Afghans', 'Indonesians', 'Jordanians', 'Zoroastrians', 'Persians', 'Assyrians'], 'king': ['Usurper', 'Queen', 'Lords', 'Emperor', 'Throne', 'Rightful king', 'Current king', 'Prince', 'Great king', 'True king'], 'temples': ['Convents', 'Holy sites', 'Monuments', 'Monasteries', 'Shrines', 'Statues', 'Palaces', 'Cathedrals', 'Holy places', 'Tombs'], 'stone': ['Anvil', 'Obsidian', 'Wooden planks', 'Marble', 'Wood', 'Slabs', 'Granite', 'Iron', 'Smooth stone', 'Solid stone'], 'priests': ['Holy men', 'Clergymen', 'Clergy', 'Bishops', 'Clerics', 'Nuns', 'Rabbis', 'Pastors', 'Catholic priests'], 'river water': ['Water source', 'Water sources', 'Water', 'So much water'], 'brick houses': ['Many buildings', 'Old buildings', 'Skyscrapers', 'Modern buildings', 'Concrete buildings', 'Fireplaces', 'Shacks', 'Small homes', 'Old homes'], 'ruler': ['Kingdom', 'King', 'Kingdoms', 'Known world', 'British monarch', 'Monarch', 'Throne', 'Emperors', 'Emperor', 'Rightful ruler'], 'nile': ['Sahara', 'Mesopotamia', 'Western coast', 'Headwaters', 'Euphrates', 'Mediterranean sea', 'Mediterranean', 'Yellow river', 'Great river', 'Himalayas'], 'old kingdom': ['First era', 'Renaissance', 'Ancient world', 'Ancient egypt', 'Iron age', 'Roman world', 'Antiquity', 'Late antiquity', 'Hellenistic period', 'Early middle ages'], 'pyramid': ['Big square', 'Stone slab', 'Oblong', 'Giant cube', 'Center', 'Large square', 'Bottom level', 'Scaffolding', 'Very center', 'Rectangle'], 'egypt': ['Tunisia', 'Sudan', 'Morocco', 'Arabia', 'Yemen', 'Mali', 'Indonesia', 'Sinai', 'Mauritania', 'Pakistan']}\n"
          ]
        }
      ]
    },
    {
      "cell_type": "code",
      "source": [
        "from collections import Counter\n",
        "from math import sqrt\n",
        "\n",
        "filtered_distractors = {}\n",
        "def word2vec(word):\n",
        "\n",
        "    # Count the number of characters in each word.\n",
        "    count_characters = Counter(word)\n",
        "\n",
        "    # Gets the set of characters and calculates the \"length\" of the vector.\n",
        "    set_characters = set(count_characters)\n",
        "\n",
        "    length = sqrt(sum(c*c for c in count_characters.values()))\n",
        "\n",
        "    return count_characters, set_characters, length, word\n",
        "\n",
        "def cosine_similarity(vector1, vector2, ndigits):\n",
        "\n",
        "    # Get the common characters between the two character sets\n",
        "    common_characters = vector1[1].intersection(vector2[1])\n",
        "\n",
        "    # Sum of the product of each intersection character.\n",
        "    product_summation = sum(vector1[0][character] * vector2[0][character] for character in common_characters)\n",
        "\n",
        "    # Gets the length of each vector from the word2vec output.\n",
        "    length = vector1[2] * vector2[2]\n",
        "\n",
        "    # Calculates cosine similarity and rounds the value to ndigits decimal places.\n",
        "    if length == 0:\n",
        "        # Set value to 0 if word is empty.\n",
        "        similarity = 0\n",
        "    else:\n",
        "        similarity = round(product_summation/length, ndigits)\n",
        "\n",
        "    return similarity\n",
        "def find_similar(key, distractors_list, similarity_threshold, ndigits):\n",
        "\n",
        "    results_list = []\n",
        "\n",
        "    vector_list = [word2vec(str(i)) for i in distractors_list]\n",
        "    vector_key = word2vec(str(key))\n",
        "\n",
        "    # Two loops to compare each vector with another vector only once.\n",
        "    for i in range(len(vector_list)):\n",
        "        # Get first vector\n",
        "        vector1 = vector_list[i]\n",
        "\n",
        "\n",
        "\n",
        "        # Calculate cosine similarity\n",
        "        similarity_score = cosine_similarity(vector_key, vector1, ndigits)\n",
        "\n",
        "        if similarity_score <= similarity_threshold:\n",
        "            results_list.append([vector1[3], similarity_score])\n",
        "\n",
        "        else:\n",
        "            continue\n",
        "\n",
        "    return results_list\n",
        "\n",
        "for keyword in filtered_keywords:\n",
        "  distractors_new = distractors[keyword]\n",
        "  filtered_distractors[keyword] = find_similar(keyword,distractors_new,0.5,3)\n",
        "  filtered_distractors[keyword].sort(key = lambda x: x[1])\n",
        "\n",
        "distractors_final = {}\n",
        "print(filtered_distractors)"
      ],
      "metadata": {
        "colab": {
          "base_uri": "https://localhost:8080/"
        },
        "id": "34aA-ZQOF8Xy",
        "outputId": "d7dac390-9161-4d61-d378-5a876bab5532"
      },
      "execution_count": null,
      "outputs": [
        {
          "output_type": "stream",
          "name": "stdout",
          "text": [
            "{'nile river': [['Himalayas', 0.194], ['Island', 0.204], ['Marshlands', 0.267], ['Steppes', 0.302], ['Eastern coast', 0.344], ['Inland sea', 0.401], ['Headwaters', 0.401], ['Western coast', 0.459]], 'egyptians': [['Turks', 0.149], ['Arabs', 0.298], ['Berbers', 0.302], ['Jews', 0.333]], 'king': [['Usurper', 0.0], ['Lords', 0.0], ['Emperor', 0.0], ['Queen', 0.189], ['Throne', 0.204], ['Prince', 0.408]], 'temples': [['Tombs', 0.298], ['Shrines', 0.378], ['Convents', 0.422], ['Palaces', 0.444], ['Cathedrals', 0.481]], 'stone': [['Marble', 0.183], ['Anvil', 0.2], ['Slabs', 0.2], ['Obsidian', 0.283], ['Wood', 0.365], ['Iron', 0.447]], 'priests': [['Holy men', 0.118], ['Clergy', 0.272], ['Clergymen', 0.302], ['Nuns', 0.333], ['Rabbis', 0.354]], 'river water': [], 'brick houses': [['Small homes', 0.414], ['Old buildings', 0.429], ['Many buildings', 0.441]], 'ruler': [['Kingdom', 0.0], ['King', 0.0], ['Kingdoms', 0.0], ['Known world', 0.275], ['Monarch', 0.286], ['British monarch', 0.33], ['Throne', 0.463]], 'nile': [['Sahara', 0.0], ['Euphrates', 0.167], ['Himalayas', 0.258], ['Mesopotamia', 0.258], ['Headwaters', 0.267], ['Great river', 0.344], ['Western coast', 0.344]], 'old kingdom': [['First era', 0.156], ['Renaissance', 0.178], ['Late antiquity', 0.211], ['Antiquity', 0.215], ['Justinian', 0.286], ['Ancient egypt', 0.296], ['Iron age', 0.456], ['Viking age', 0.483]], 'pyramid': [['Oblong', 0.0], ['Bottom level', 0.085], ['Rectangle', 0.114], ['Stone slab', 0.12], ['Center', 0.134], ['Giant cube', 0.239], ['Concentric circles', 0.245], ['Very center', 0.26], ['Square', 0.309], ['Scaffolding', 0.314], ['Large square', 0.356], ['Big square', 0.359], ['Very top', 0.401]], 'egypt': [['Tunisia', 0.0], ['Sudan', 0.0], ['Morocco', 0.0], ['Arabia', 0.0], ['Mali', 0.0], ['Sinai', 0.0], ['Mauritania', 0.105], ['Indonesia', 0.135], ['Pakistan', 0.141], ['Lebanon', 0.149], ['Ethiopia', 0.283], ['Yemen', 0.338], ['Algeria', 0.338], ['Levant', 0.365]]}\n"
          ]
        }
      ]
    },
    {
      "cell_type": "code",
      "source": [
        "for word in filtered_keywords:\n",
        "  distractors_list = []\n",
        "  i = 0\n",
        "  while i < min(len(filtered_distractors[word]),10):\n",
        "    distractors_list.append(filtered_distractors[word][i][0])\n",
        "    i += 1\n",
        "  distractors_final[word] = distractors_list\n",
        "\n",
        "print(distractors_final)"
      ],
      "metadata": {
        "colab": {
          "base_uri": "https://localhost:8080/"
        },
        "id": "RViOk2TqI3it",
        "outputId": "5fd0705d-f7b1-4c11-f891-a158290a04ff"
      },
      "execution_count": null,
      "outputs": [
        {
          "output_type": "stream",
          "name": "stdout",
          "text": [
            "{'nile river': ['Himalayas', 'Island', 'Marshlands', 'Steppes', 'Eastern coast', 'Inland sea', 'Headwaters', 'Western coast'], 'egyptians': ['Turks', 'Arabs', 'Berbers', 'Jews'], 'king': ['Usurper', 'Lords', 'Emperor', 'Queen', 'Throne', 'Prince'], 'temples': ['Tombs', 'Shrines', 'Convents', 'Palaces', 'Cathedrals'], 'stone': ['Marble', 'Anvil', 'Slabs', 'Obsidian', 'Wood', 'Iron'], 'priests': ['Holy men', 'Clergy', 'Clergymen', 'Nuns', 'Rabbis'], 'river water': [], 'brick houses': ['Small homes', 'Old buildings', 'Many buildings'], 'ruler': ['Kingdom', 'King', 'Kingdoms', 'Known world', 'Monarch', 'British monarch', 'Throne'], 'nile': ['Sahara', 'Euphrates', 'Himalayas', 'Mesopotamia', 'Headwaters', 'Great river', 'Western coast'], 'old kingdom': ['First era', 'Renaissance', 'Late antiquity', 'Antiquity', 'Justinian', 'Ancient egypt', 'Iron age', 'Viking age'], 'pyramid': ['Oblong', 'Bottom level', 'Rectangle', 'Stone slab', 'Center', 'Giant cube', 'Concentric circles', 'Very center', 'Square', 'Scaffolding'], 'egypt': ['Tunisia', 'Sudan', 'Morocco', 'Arabia', 'Mali', 'Sinai', 'Mauritania', 'Indonesia', 'Pakistan', 'Lebanon']}\n"
          ]
        }
      ]
    },
    {
      "cell_type": "code",
      "source": [
        "import statistics as st\n",
        "mean_cosine = {}\n",
        "mean_lev = {}\n",
        "for keyword in filtered_keywords:\n",
        "  distractors_keyword = {}\n",
        "  i = 0\n",
        "  while i < min(10,len(filtered_distractors[keyword])):\n",
        "    distractors_keyword[filtered_distractors[keyword][i][0]] = abs(0.5 - filtered_distractors[keyword][i][1])\n",
        "    i += 1\n",
        "  cosine = list(distractors_keyword.values())\n",
        "  if(len(cosine)==0):\n",
        "    mean_cosine[keyword] = 0\n",
        "  else:\n",
        "    mean_cosine[keyword] = round(st.mean(cosine),3)\n",
        "\n",
        "for keyword in filtered_keywords:\n",
        "  distractors_keyword = {}\n",
        "  i = 0\n",
        "  while i < min(10,len(filtered_distractors_levenshtein_distance[keyword])):\n",
        "    distractors_keyword[filtered_distractors_levenshtein_distance[keyword][i][0]] = abs(0.5 - filtered_distractors_levenshtein_distance[keyword][i][1])\n",
        "    i += 1\n",
        "  lev = list(distractors_keyword.values())\n",
        "  if(len(lev)==0):\n",
        "    mean_lev[keyword] = 0\n",
        "  else:\n",
        "    mean_lev[keyword] = round(st.mean(lev),3)\n",
        "\n",
        "print(mean_cosine)\n",
        "print(mean_lev)"
      ],
      "metadata": {
        "colab": {
          "base_uri": "https://localhost:8080/"
        },
        "id": "SFNmmPwrGCS8",
        "outputId": "94be3d86-8149-4628-d7ab-55784d6b2b15"
      },
      "execution_count": null,
      "outputs": [
        {
          "output_type": "stream",
          "name": "stdout",
          "text": [
            "{'nile river': 0.178, 'egyptians': 0.229, 'king': 0.366, 'temples': 0.095, 'stone': 0.22, 'priests': 0.224, 'river water': 0, 'brick houses': 0.072, 'ruler': 0.307, 'nile': 0.266, 'old kingdom': 0.215, 'pyramid': 0.318, 'egypt': 0.447}\n",
            "{'nile river': 0.356, 'egyptians': 0.193, 'king': 0.301, 'temples': 0.223, 'stone': 0.26, 'priests': 0.312, 'river water': 0.131, 'brick houses': 0.294, 'ruler': 0.357, 'nile': 0.387, 'old kingdom': 0.409, 'pyramid': 0.454, 'egypt': 0.477}\n"
          ]
        }
      ]
    },
    {
      "cell_type": "code",
      "source": [
        "import numpy as np\n",
        "import matplotlib.pyplot as plt\n",
        "\n",
        "# set width of bar\n",
        "barWidth = 0.25\n",
        "fig = plt.subplots(figsize =(16, 8))\n",
        "\n",
        "# set height of bar\n",
        "cosine = list(mean_cosine.values())\n",
        "lev = list(mean_lev.values())\n",
        "\n",
        "# Set position of bar on X axis\n",
        "br1 = np.arange(len(cosine))\n",
        "br2 = [x + barWidth for x in br1]\n",
        "\n",
        "\n",
        "# Make the plot\n",
        "plt.bar(br1, cosine, color ='r', width = barWidth,\n",
        "         edgecolor ='grey', label ='cosine')\n",
        "plt.bar(br2, lev, color ='g', width = barWidth,\n",
        "\t\tedgecolor ='grey', label ='levenshtein')\n",
        "\n",
        "# Adding Xticks\n",
        "plt.xlabel('Keywords', fontweight ='bold', fontsize = 15)\n",
        "plt.ylabel('Mean distance of distractors from threshold', fontweight ='bold', fontsize = 15)\n",
        "plt.xticks([r + barWidth for r in range(len(cosine))],\n",
        "\t\tfiltered_keywords)\n",
        "\n",
        "plt.legend()\n",
        "plt.show()"
      ],
      "metadata": {
        "colab": {
          "base_uri": "https://localhost:8080/",
          "height": 603
        },
        "id": "aTgnWBx5GFEB",
        "outputId": "2b2d619d-7d56-42d0-9ad7-7018f8dc25b0"
      },
      "execution_count": null,
      "outputs": [
        {
          "output_type": "display_data",
          "data": {
            "text/plain": [
              "<Figure size 1600x800 with 1 Axes>"
            ],
            "image/png": "[encoded data removed]"
          },
          "metadata": {}
        }
      ]
    },
    {
      "cell_type": "code",
      "source": [
        "from google.colab import drive\n",
        "drive.mount('/content/gdrive')\n",
        "trained_model_path = '/content/gdrive/My Drive/t5/model/'\n",
        "trained_tokenizer = '/content/gdrive/My Drive/t5/tokenizer/'"
      ],
      "metadata": {
        "colab": {
          "base_uri": "https://localhost:8080/"
        },
        "id": "TqrT7HR9GIA1",
        "outputId": "4c5ee0ae-3bc8-49c7-ebb0-f02004fc6473"
      },
      "execution_count": null,
      "outputs": [
        {
          "output_type": "stream",
          "name": "stdout",
          "text": [
            "Mounted at /content/gdrive\n"
          ]
        }
      ]
    },
    {
      "cell_type": "code",
      "source": [
        "import torch\n",
        "from transformers import T5ForConditionalGeneration,T5Tokenizer\n",
        "question_model = T5ForConditionalGeneration.from_pretrained(trained_model_path)\n",
        "question_tokenizer = T5Tokenizer.from_pretrained(trained_tokenizer)\n",
        "device = torch.device(\"cuda\" if torch.cuda.is_available() else \"cpu\")\n",
        "question_model = question_model.to(device)"
      ],
      "metadata": {
        "id": "RKoqXfDPGMf0"
      },
      "execution_count": null,
      "outputs": []
    },
    {
      "cell_type": "code",
      "source": [
        "def get_question(context,answer,model,tokenizer):\n",
        "  text = \"context: {} answer: {}\".format(context,answer)\n",
        "  encoding = tokenizer.encode_plus(text,max_length=384, pad_to_max_length=False,truncation=True, return_tensors=\"pt\").to(device)\n",
        "  input_ids, attention_mask = encoding[\"input_ids\"], encoding[\"attention_mask\"]\n",
        "\n",
        "  outs = model.generate(input_ids=input_ids,\n",
        "                                  attention_mask=attention_mask,\n",
        "                                  early_stopping=True,\n",
        "                                  num_beams=5,\n",
        "                                  num_return_sequences=1,\n",
        "                                  no_repeat_ngram_size=2,\n",
        "                                  max_length=72)\n",
        "\n",
        "\n",
        "  dec = [tokenizer.decode(ids,skip_special_tokens=True) for ids in outs]\n",
        "\n",
        "\n",
        "  Question = dec[0].replace(\"question:\",\"\")\n",
        "  Question= Question.strip()\n",
        "  return Question\n",
        "\n",
        "for answer in filtered_keywords:\n",
        "  ques = get_question(random.choice(keyword_sentence_mapping[answer]),answer,question_model,question_tokenizer)\n",
        "  print (ques)\n",
        "  print (\"Answer: \" +answer.capitalize())\n",
        "  print (\"Wrong choices:\")\n",
        "  i = 0\n",
        "  while i < min(5,len(filtered_distractors_levenshtein_distance[answer])):\n",
        "    print (filtered_distractors_levenshtein_distance[answer][i][0])\n",
        "    i += 1\n",
        "  print (\"\\n\")\n"
      ],
      "metadata": {
        "colab": {
          "base_uri": "https://localhost:8080/"
        },
        "id": "3DniooZRGOu5",
        "outputId": "2f5caafc-69c2-4d13-9ae7-6da2f76552df"
      },
      "execution_count": null,
      "outputs": [
        {
          "output_type": "stream",
          "name": "stdout",
          "text": [
            "What river fed Egyptian civilization for hundreds of years?\n",
            "Answer: Nile river\n",
            "Wrong choices:\n",
            "Marshlands\n",
            "Himalayas\n",
            "Headwaters\n",
            "Island\n",
            "Western coast\n",
            "\n",
            "\n",
            "Who equipped their reed boats with sails?\n",
            "Answer: Egyptians\n",
            "Wrong choices:\n",
            "Jews\n",
            "Berbers\n",
            "Arabs\n",
            "Turks\n",
            "Afghans\n",
            "\n",
            "\n",
            "What was the word pharaoh originally used to describe?\n",
            "Answer: King\n",
            "Wrong choices:\n",
            "Usurper\n",
            "Queen\n",
            "Lords\n",
            "Emperor\n",
            "Throne\n",
            "\n",
            "\n",
            "Priests took care of what?\n",
            "Answer: Temples\n",
            "Wrong choices:\n",
            "Convents\n",
            "Holy sites\n",
            "Monuments\n",
            "Monasteries\n",
            "Shrines\n",
            "\n",
            "\n",
            "What did farmers haul during the season when the Nile floods their fields?\n",
            "Answer: Stone\n",
            "Wrong choices:\n",
            "Anvil\n",
            "Obsidian\n",
            "Wooden planks\n",
            "Marble\n",
            "Wood\n",
            "\n",
            "\n",
            "Who tried to keep the gods happy?\n",
            "Answer: Priests\n",
            "Wrong choices:\n",
            "Holy men\n",
            "Clergymen\n",
            "Clergy\n",
            "Bishops\n",
            "Clerics\n",
            "\n",
            "\n",
            "What water did the two men work together to carry to dry areas?\n",
            "Answer: River water\n",
            "Wrong choices:\n",
            "Water source\n",
            "Water sources\n",
            "Water\n",
            "So much water\n",
            "\n",
            "\n",
            "What type of house did some craftsmen erected?\n",
            "Answer: Brick houses\n",
            "Wrong choices:\n",
            "Many buildings\n",
            "Old buildings\n",
            "Skyscrapers\n",
            "Modern buildings\n",
            "Concrete buildings\n",
            "\n",
            "\n",
            "Who did the priests try to keep the gods happy?\n",
            "Answer: Ruler\n",
            "Wrong choices:\n",
            "Kingdom\n",
            "King\n",
            "Kingdoms\n",
            "Known world\n",
            "British monarch\n",
            "\n",
            "\n",
            "What insect flooded the fields during the season?\n",
            "Answer: Nile\n",
            "Wrong choices:\n",
            "Sahara\n",
            "Mesopotamia\n",
            "Western coast\n",
            "Headwaters\n",
            "Euphrates\n",
            "\n",
            "\n",
            "What ancient Egyptian dynasty is divided into three?\n",
            "Answer: Old kingdom\n",
            "Wrong choices:\n",
            "First era\n",
            "Renaissance\n",
            "Ancient world\n",
            "Ancient egypt\n",
            "Iron age\n",
            "\n",
            "\n",
            "What was the largest pyramid ever built?\n",
            "Answer: Pyramid\n",
            "Wrong choices:\n",
            "Big square\n",
            "Stone slab\n",
            "Oblong\n",
            "Giant cube\n",
            "Center\n",
            "\n",
            "\n",
            "Where did children in Egypt play with toys?\n",
            "Answer: Egypt\n",
            "Wrong choices:\n",
            "Tunisia\n",
            "Sudan\n",
            "Morocco\n",
            "Arabia\n",
            "Yemen\n",
            "\n",
            "\n"
          ]
        }
      ]
    }
  ]
}